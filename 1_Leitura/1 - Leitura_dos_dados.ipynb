{
 "cells": [
  {
   "cell_type": "markdown",
   "id": "75b525ce-9baf-4668-ac79-6a959946c633",
   "metadata": {},
   "source": [
    "# Análise Exploratória dos arquivos - EMPRESA DISCORAMA"
   ]
  },
  {
   "cell_type": "markdown",
   "id": "4388521c-e7b1-445c-a938-72713c712b5e",
   "metadata": {},
   "source": [
    "### Importações"
   ]
  },
  {
   "cell_type": "code",
   "execution_count": 137,
   "id": "9341441d-20bc-47bb-babe-f4fa698f1818",
   "metadata": {},
   "outputs": [],
   "source": [
    "# Importando bibliotecas\n",
    "import pandas as pd"
   ]
  },
  {
   "cell_type": "markdown",
   "id": "4f169691-d172-479a-9669-27f0360f3546",
   "metadata": {},
   "source": [
    "#### Análise exploratória - Actor"
   ]
  },
  {
   "cell_type": "code",
   "execution_count": 138,
   "id": "e0635e92-3306-42a3-b0bc-f5573649daf3",
   "metadata": {
    "scrolled": true
   },
   "outputs": [],
   "source": [
    "#Leitura do arquivo \n",
    "actor = pd.read_csv(\"actor.csv\")"
   ]
  },
  {
   "cell_type": "code",
   "execution_count": 139,
   "id": "9d83b4ae",
   "metadata": {},
   "outputs": [
    {
     "name": "stdout",
     "output_type": "stream",
     "text": [
      "Esse é o total de linhas e colunas:\n",
      "(200, 4)\n"
     ]
    }
   ],
   "source": [
    "# Total de linhas e colunas\n",
    "total_linhas_colunas = actor.shape\n",
    "print(\"Esse é o total de linhas e colunas:\")\n",
    "print(total_linhas_colunas)"
   ]
  },
  {
   "cell_type": "code",
   "execution_count": 140,
   "id": "6d87f943",
   "metadata": {},
   "outputs": [
    {
     "name": "stdout",
     "output_type": "stream",
     "text": [
      "Linhas duplicadas:\n",
      "Empty DataFrame\n",
      "Columns: [actor_id, first_name, last_name, last_update]\n",
      "Index: []\n"
     ]
    }
   ],
   "source": [
    "# Verificando se existem linhas duplicadas\n",
    "linhas_duplicadas = actor[actor.duplicated()]\n",
    "print(\"Linhas duplicadas:\")\n",
    "print(linhas_duplicadas)"
   ]
  },
  {
   "cell_type": "code",
   "execution_count": 141,
   "id": "f8d0f26a",
   "metadata": {},
   "outputs": [
    {
     "name": "stdout",
     "output_type": "stream",
     "text": [
      "Quantidade de valores nulos (NaN) ou em branco em cada coluna:\n",
      "actor_id       0\n",
      "first_name     0\n",
      "last_name      0\n",
      "last_update    0\n",
      "dtype: int64\n"
     ]
    }
   ],
   "source": [
    "# Verificar a quantidade de valores nulos (NaN) ou em branco em cada coluna\n",
    "valores_nulos  = actor.isnull().sum()\n",
    "print(\"Quantidade de valores nulos (NaN) ou em branco em cada coluna:\")\n",
    "print(valores_nulos )"
   ]
  },
  {
   "cell_type": "code",
   "execution_count": 142,
   "id": "56689699-5928-4478-a220-1b9586eb4a61",
   "metadata": {},
   "outputs": [
    {
     "data": {
      "text/html": [
       "<div>\n",
       "<style scoped>\n",
       "    .dataframe tbody tr th:only-of-type {\n",
       "        vertical-align: middle;\n",
       "    }\n",
       "\n",
       "    .dataframe tbody tr th {\n",
       "        vertical-align: top;\n",
       "    }\n",
       "\n",
       "    .dataframe thead th {\n",
       "        text-align: right;\n",
       "    }\n",
       "</style>\n",
       "<table border=\"1\" class=\"dataframe\">\n",
       "  <thead>\n",
       "    <tr style=\"text-align: right;\">\n",
       "      <th></th>\n",
       "      <th>actor_id</th>\n",
       "      <th>first_name</th>\n",
       "      <th>last_name</th>\n",
       "      <th>last_update</th>\n",
       "    </tr>\n",
       "  </thead>\n",
       "  <tbody>\n",
       "    <tr>\n",
       "      <th>0</th>\n",
       "      <td>1</td>\n",
       "      <td>Penelope</td>\n",
       "      <td>Guiness</td>\n",
       "      <td>2013-05-26 14:47:57.620</td>\n",
       "    </tr>\n",
       "    <tr>\n",
       "      <th>1</th>\n",
       "      <td>2</td>\n",
       "      <td>Nick</td>\n",
       "      <td>Wahlberg</td>\n",
       "      <td>2013-05-26 14:47:57.620</td>\n",
       "    </tr>\n",
       "    <tr>\n",
       "      <th>2</th>\n",
       "      <td>3</td>\n",
       "      <td>Ed</td>\n",
       "      <td>Chase</td>\n",
       "      <td>2013-05-26 14:47:57.620</td>\n",
       "    </tr>\n",
       "    <tr>\n",
       "      <th>3</th>\n",
       "      <td>4</td>\n",
       "      <td>Jennifer</td>\n",
       "      <td>Davis</td>\n",
       "      <td>2013-05-26 14:47:57.620</td>\n",
       "    </tr>\n",
       "    <tr>\n",
       "      <th>4</th>\n",
       "      <td>5</td>\n",
       "      <td>Johnny</td>\n",
       "      <td>Lollobrigida</td>\n",
       "      <td>2013-05-26 14:47:57.620</td>\n",
       "    </tr>\n",
       "  </tbody>\n",
       "</table>\n",
       "</div>"
      ],
      "text/plain": [
       "   actor_id first_name     last_name              last_update\n",
       "0         1   Penelope       Guiness  2013-05-26 14:47:57.620\n",
       "1         2       Nick      Wahlberg  2013-05-26 14:47:57.620\n",
       "2         3         Ed         Chase  2013-05-26 14:47:57.620\n",
       "3         4   Jennifer         Davis  2013-05-26 14:47:57.620\n",
       "4         5     Johnny  Lollobrigida  2013-05-26 14:47:57.620"
      ]
     },
     "execution_count": 142,
     "metadata": {},
     "output_type": "execute_result"
    }
   ],
   "source": [
    "#Visualizando as 5 primeiras linhas\n",
    "actor.head()"
   ]
  },
  {
   "cell_type": "code",
   "execution_count": 143,
   "id": "f69dccdb",
   "metadata": {},
   "outputs": [
    {
     "data": {
      "text/html": [
       "<div>\n",
       "<style scoped>\n",
       "    .dataframe tbody tr th:only-of-type {\n",
       "        vertical-align: middle;\n",
       "    }\n",
       "\n",
       "    .dataframe tbody tr th {\n",
       "        vertical-align: top;\n",
       "    }\n",
       "\n",
       "    .dataframe thead th {\n",
       "        text-align: right;\n",
       "    }\n",
       "</style>\n",
       "<table border=\"1\" class=\"dataframe\">\n",
       "  <thead>\n",
       "    <tr style=\"text-align: right;\">\n",
       "      <th></th>\n",
       "      <th>actor_id</th>\n",
       "      <th>first_name</th>\n",
       "      <th>last_name</th>\n",
       "      <th>last_update</th>\n",
       "    </tr>\n",
       "  </thead>\n",
       "  <tbody>\n",
       "    <tr>\n",
       "      <th>195</th>\n",
       "      <td>196</td>\n",
       "      <td>Bela</td>\n",
       "      <td>Walken</td>\n",
       "      <td>2013-05-26 14:47:57.620</td>\n",
       "    </tr>\n",
       "    <tr>\n",
       "      <th>196</th>\n",
       "      <td>197</td>\n",
       "      <td>Reese</td>\n",
       "      <td>West</td>\n",
       "      <td>2013-05-26 14:47:57.620</td>\n",
       "    </tr>\n",
       "    <tr>\n",
       "      <th>197</th>\n",
       "      <td>198</td>\n",
       "      <td>Mary</td>\n",
       "      <td>Keitel</td>\n",
       "      <td>2013-05-26 14:47:57.620</td>\n",
       "    </tr>\n",
       "    <tr>\n",
       "      <th>198</th>\n",
       "      <td>199</td>\n",
       "      <td>Julia</td>\n",
       "      <td>Fawcett</td>\n",
       "      <td>2013-05-26 14:47:57.620</td>\n",
       "    </tr>\n",
       "    <tr>\n",
       "      <th>199</th>\n",
       "      <td>200</td>\n",
       "      <td>Thora</td>\n",
       "      <td>Temple</td>\n",
       "      <td>2013-05-26 14:47:57.620</td>\n",
       "    </tr>\n",
       "  </tbody>\n",
       "</table>\n",
       "</div>"
      ],
      "text/plain": [
       "     actor_id first_name last_name              last_update\n",
       "195       196       Bela    Walken  2013-05-26 14:47:57.620\n",
       "196       197      Reese      West  2013-05-26 14:47:57.620\n",
       "197       198       Mary    Keitel  2013-05-26 14:47:57.620\n",
       "198       199      Julia   Fawcett  2013-05-26 14:47:57.620\n",
       "199       200      Thora    Temple  2013-05-26 14:47:57.620"
      ]
     },
     "execution_count": 143,
     "metadata": {},
     "output_type": "execute_result"
    }
   ],
   "source": [
    "#Ultimas linhas do conjunto de dados\n",
    "actor.tail()"
   ]
  },
  {
   "cell_type": "code",
   "execution_count": 144,
   "id": "20ab23c4-300f-4946-9818-4a39ddeece2f",
   "metadata": {},
   "outputs": [
    {
     "name": "stdout",
     "output_type": "stream",
     "text": [
      "actor_id        int64\n",
      "first_name     object\n",
      "last_name      object\n",
      "last_update    object\n",
      "dtype: object\n"
     ]
    }
   ],
   "source": [
    "#Tipo de dados de cada coluna\n",
    "print(actor.dtypes)"
   ]
  },
  {
   "cell_type": "code",
   "execution_count": 145,
   "id": "6184e653-383f-44ac-8064-3f0189485b83",
   "metadata": {},
   "outputs": [],
   "source": [
    "# Alteração da coluna last_update para DateTime\n",
    "actor['last_update'] = pd.to_datetime(actor['last_update'])"
   ]
  },
  {
   "cell_type": "code",
   "execution_count": 146,
   "id": "99b7b223-acd4-4555-8464-07c199446f58",
   "metadata": {},
   "outputs": [
    {
     "name": "stdout",
     "output_type": "stream",
     "text": [
      "actor_id                int64\n",
      "first_name             object\n",
      "last_name              object\n",
      "last_update    datetime64[ns]\n",
      "dtype: object\n"
     ]
    }
   ],
   "source": [
    "#Visualização do tipo das colunas, após a alteração\n",
    "print(actor.dtypes)"
   ]
  },
  {
   "cell_type": "code",
   "execution_count": 147,
   "id": "36ea2c0c-4020-448f-914c-e56744dd8d6e",
   "metadata": {},
   "outputs": [
    {
     "data": {
      "text/html": [
       "<div>\n",
       "<style scoped>\n",
       "    .dataframe tbody tr th:only-of-type {\n",
       "        vertical-align: middle;\n",
       "    }\n",
       "\n",
       "    .dataframe tbody tr th {\n",
       "        vertical-align: top;\n",
       "    }\n",
       "\n",
       "    .dataframe thead th {\n",
       "        text-align: right;\n",
       "    }\n",
       "</style>\n",
       "<table border=\"1\" class=\"dataframe\">\n",
       "  <thead>\n",
       "    <tr style=\"text-align: right;\">\n",
       "      <th></th>\n",
       "      <th>actor_id</th>\n",
       "      <th>first_name</th>\n",
       "      <th>last_name</th>\n",
       "      <th>last_update</th>\n",
       "    </tr>\n",
       "  </thead>\n",
       "  <tbody>\n",
       "    <tr>\n",
       "      <th>0</th>\n",
       "      <td>1</td>\n",
       "      <td>Penelope</td>\n",
       "      <td>Guiness</td>\n",
       "      <td>2013-05-26 14:47:57.620</td>\n",
       "    </tr>\n",
       "    <tr>\n",
       "      <th>1</th>\n",
       "      <td>2</td>\n",
       "      <td>Nick</td>\n",
       "      <td>Wahlberg</td>\n",
       "      <td>2013-05-26 14:47:57.620</td>\n",
       "    </tr>\n",
       "    <tr>\n",
       "      <th>2</th>\n",
       "      <td>3</td>\n",
       "      <td>Ed</td>\n",
       "      <td>Chase</td>\n",
       "      <td>2013-05-26 14:47:57.620</td>\n",
       "    </tr>\n",
       "    <tr>\n",
       "      <th>3</th>\n",
       "      <td>4</td>\n",
       "      <td>Jennifer</td>\n",
       "      <td>Davis</td>\n",
       "      <td>2013-05-26 14:47:57.620</td>\n",
       "    </tr>\n",
       "    <tr>\n",
       "      <th>4</th>\n",
       "      <td>5</td>\n",
       "      <td>Johnny</td>\n",
       "      <td>Lollobrigida</td>\n",
       "      <td>2013-05-26 14:47:57.620</td>\n",
       "    </tr>\n",
       "  </tbody>\n",
       "</table>\n",
       "</div>"
      ],
      "text/plain": [
       "   actor_id first_name     last_name             last_update\n",
       "0         1   Penelope       Guiness 2013-05-26 14:47:57.620\n",
       "1         2       Nick      Wahlberg 2013-05-26 14:47:57.620\n",
       "2         3         Ed         Chase 2013-05-26 14:47:57.620\n",
       "3         4   Jennifer         Davis 2013-05-26 14:47:57.620\n",
       "4         5     Johnny  Lollobrigida 2013-05-26 14:47:57.620"
      ]
     },
     "execution_count": 147,
     "metadata": {},
     "output_type": "execute_result"
    }
   ],
   "source": [
    "# Visualização das 5 primeiras linhas, após alteração\n",
    "actor.head()"
   ]
  },
  {
   "cell_type": "markdown",
   "id": "105c8e1c-842b-4eb3-9ff6-6e59611a93b6",
   "metadata": {},
   "source": [
    "#### Análise exploratória - Address"
   ]
  },
  {
   "cell_type": "code",
   "execution_count": 148,
   "id": "e0e3d088-4a30-4c66-a2dd-46c22462b591",
   "metadata": {},
   "outputs": [],
   "source": [
    "#Leitura do arquivo \n",
    "address = pd.read_csv(\"address.csv\")"
   ]
  },
  {
   "cell_type": "code",
   "execution_count": 149,
   "id": "fe43f281",
   "metadata": {},
   "outputs": [
    {
     "name": "stdout",
     "output_type": "stream",
     "text": [
      "Esse é o total de linhas e colunas:\n",
      "(603, 8)\n"
     ]
    }
   ],
   "source": [
    "# Total de linhas e colunas\n",
    "total_linhas_colunas = address.shape\n",
    "print(\"Esse é o total de linhas e colunas:\")\n",
    "print(total_linhas_colunas)"
   ]
  },
  {
   "cell_type": "code",
   "execution_count": 150,
   "id": "b03c92ce-29cd-4b49-bc45-173605f4d655",
   "metadata": {},
   "outputs": [
    {
     "data": {
      "text/html": [
       "<div>\n",
       "<style scoped>\n",
       "    .dataframe tbody tr th:only-of-type {\n",
       "        vertical-align: middle;\n",
       "    }\n",
       "\n",
       "    .dataframe tbody tr th {\n",
       "        vertical-align: top;\n",
       "    }\n",
       "\n",
       "    .dataframe thead th {\n",
       "        text-align: right;\n",
       "    }\n",
       "</style>\n",
       "<table border=\"1\" class=\"dataframe\">\n",
       "  <thead>\n",
       "    <tr style=\"text-align: right;\">\n",
       "      <th></th>\n",
       "      <th>address_id</th>\n",
       "      <th>address</th>\n",
       "      <th>address2</th>\n",
       "      <th>district</th>\n",
       "      <th>city_id</th>\n",
       "      <th>postal_code</th>\n",
       "      <th>phone</th>\n",
       "      <th>last_update</th>\n",
       "    </tr>\n",
       "  </thead>\n",
       "  <tbody>\n",
       "    <tr>\n",
       "      <th>0</th>\n",
       "      <td>1</td>\n",
       "      <td>47 MySakila Drive</td>\n",
       "      <td>NaN</td>\n",
       "      <td>Alberta</td>\n",
       "      <td>300</td>\n",
       "      <td>NaN</td>\n",
       "      <td>NaN</td>\n",
       "      <td>2006-02-15 09:45:30.000</td>\n",
       "    </tr>\n",
       "    <tr>\n",
       "      <th>1</th>\n",
       "      <td>2</td>\n",
       "      <td>28 MySQL Boulevard</td>\n",
       "      <td>NaN</td>\n",
       "      <td>QLD</td>\n",
       "      <td>576</td>\n",
       "      <td>NaN</td>\n",
       "      <td>NaN</td>\n",
       "      <td>2006-02-15 09:45:30.000</td>\n",
       "    </tr>\n",
       "    <tr>\n",
       "      <th>2</th>\n",
       "      <td>3</td>\n",
       "      <td>23 Workhaven Lane</td>\n",
       "      <td>NaN</td>\n",
       "      <td>Alberta</td>\n",
       "      <td>300</td>\n",
       "      <td>NaN</td>\n",
       "      <td>1.403334e+10</td>\n",
       "      <td>2006-02-15 09:45:30.000</td>\n",
       "    </tr>\n",
       "    <tr>\n",
       "      <th>3</th>\n",
       "      <td>4</td>\n",
       "      <td>1411 Lillydale Drive</td>\n",
       "      <td>NaN</td>\n",
       "      <td>QLD</td>\n",
       "      <td>576</td>\n",
       "      <td>NaN</td>\n",
       "      <td>6.172236e+09</td>\n",
       "      <td>2006-02-15 09:45:30.000</td>\n",
       "    </tr>\n",
       "    <tr>\n",
       "      <th>4</th>\n",
       "      <td>5</td>\n",
       "      <td>1913 Hanoi Way</td>\n",
       "      <td>NaN</td>\n",
       "      <td>Nagasaki</td>\n",
       "      <td>463</td>\n",
       "      <td>35200.0</td>\n",
       "      <td>2.830338e+10</td>\n",
       "      <td>2006-02-15 09:45:30.000</td>\n",
       "    </tr>\n",
       "  </tbody>\n",
       "</table>\n",
       "</div>"
      ],
      "text/plain": [
       "   address_id               address  address2  district  city_id  postal_code  \\\n",
       "0           1     47 MySakila Drive       NaN   Alberta      300          NaN   \n",
       "1           2    28 MySQL Boulevard       NaN       QLD      576          NaN   \n",
       "2           3     23 Workhaven Lane       NaN   Alberta      300          NaN   \n",
       "3           4  1411 Lillydale Drive       NaN       QLD      576          NaN   \n",
       "4           5        1913 Hanoi Way       NaN  Nagasaki      463      35200.0   \n",
       "\n",
       "          phone              last_update  \n",
       "0           NaN  2006-02-15 09:45:30.000  \n",
       "1           NaN  2006-02-15 09:45:30.000  \n",
       "2  1.403334e+10  2006-02-15 09:45:30.000  \n",
       "3  6.172236e+09  2006-02-15 09:45:30.000  \n",
       "4  2.830338e+10  2006-02-15 09:45:30.000  "
      ]
     },
     "execution_count": 150,
     "metadata": {},
     "output_type": "execute_result"
    }
   ],
   "source": [
    "# Visualizando as 5 primeiras linhas\n",
    "address.head()"
   ]
  },
  {
   "cell_type": "code",
   "execution_count": 151,
   "id": "67e910aa",
   "metadata": {},
   "outputs": [
    {
     "data": {
      "text/html": [
       "<div>\n",
       "<style scoped>\n",
       "    .dataframe tbody tr th:only-of-type {\n",
       "        vertical-align: middle;\n",
       "    }\n",
       "\n",
       "    .dataframe tbody tr th {\n",
       "        vertical-align: top;\n",
       "    }\n",
       "\n",
       "    .dataframe thead th {\n",
       "        text-align: right;\n",
       "    }\n",
       "</style>\n",
       "<table border=\"1\" class=\"dataframe\">\n",
       "  <thead>\n",
       "    <tr style=\"text-align: right;\">\n",
       "      <th></th>\n",
       "      <th>address_id</th>\n",
       "      <th>address</th>\n",
       "      <th>address2</th>\n",
       "      <th>district</th>\n",
       "      <th>city_id</th>\n",
       "      <th>postal_code</th>\n",
       "      <th>phone</th>\n",
       "      <th>last_update</th>\n",
       "    </tr>\n",
       "  </thead>\n",
       "  <tbody>\n",
       "    <tr>\n",
       "      <th>598</th>\n",
       "      <td>601</td>\n",
       "      <td>844 Bucuresti Place</td>\n",
       "      <td>NaN</td>\n",
       "      <td>Liaoning</td>\n",
       "      <td>242</td>\n",
       "      <td>36603.0</td>\n",
       "      <td>9.359524e+11</td>\n",
       "      <td>2006-02-15 09:45:30.000</td>\n",
       "    </tr>\n",
       "    <tr>\n",
       "      <th>599</th>\n",
       "      <td>602</td>\n",
       "      <td>1101 Bucuresti Boulevard</td>\n",
       "      <td>NaN</td>\n",
       "      <td>West Greece</td>\n",
       "      <td>401</td>\n",
       "      <td>97661.0</td>\n",
       "      <td>1.995146e+11</td>\n",
       "      <td>2006-02-15 09:45:30.000</td>\n",
       "    </tr>\n",
       "    <tr>\n",
       "      <th>600</th>\n",
       "      <td>603</td>\n",
       "      <td>1103 Quilmes Boulevard</td>\n",
       "      <td>NaN</td>\n",
       "      <td>Piura</td>\n",
       "      <td>503</td>\n",
       "      <td>52137.0</td>\n",
       "      <td>6.440214e+11</td>\n",
       "      <td>2006-02-15 09:45:30.000</td>\n",
       "    </tr>\n",
       "    <tr>\n",
       "      <th>601</th>\n",
       "      <td>604</td>\n",
       "      <td>1331 Usak Boulevard</td>\n",
       "      <td>NaN</td>\n",
       "      <td>Vaud</td>\n",
       "      <td>296</td>\n",
       "      <td>61960.0</td>\n",
       "      <td>1.453087e+11</td>\n",
       "      <td>2006-02-15 09:45:30.000</td>\n",
       "    </tr>\n",
       "    <tr>\n",
       "      <th>602</th>\n",
       "      <td>605</td>\n",
       "      <td>1325 Fukuyama Street</td>\n",
       "      <td>NaN</td>\n",
       "      <td>Heilongjiang</td>\n",
       "      <td>537</td>\n",
       "      <td>27107.0</td>\n",
       "      <td>2.882412e+11</td>\n",
       "      <td>2006-02-15 09:45:30.000</td>\n",
       "    </tr>\n",
       "  </tbody>\n",
       "</table>\n",
       "</div>"
      ],
      "text/plain": [
       "     address_id                   address  address2      district  city_id  \\\n",
       "598         601       844 Bucuresti Place       NaN      Liaoning      242   \n",
       "599         602  1101 Bucuresti Boulevard       NaN   West Greece      401   \n",
       "600         603    1103 Quilmes Boulevard       NaN         Piura      503   \n",
       "601         604       1331 Usak Boulevard       NaN          Vaud      296   \n",
       "602         605      1325 Fukuyama Street       NaN  Heilongjiang      537   \n",
       "\n",
       "     postal_code         phone              last_update  \n",
       "598      36603.0  9.359524e+11  2006-02-15 09:45:30.000  \n",
       "599      97661.0  1.995146e+11  2006-02-15 09:45:30.000  \n",
       "600      52137.0  6.440214e+11  2006-02-15 09:45:30.000  \n",
       "601      61960.0  1.453087e+11  2006-02-15 09:45:30.000  \n",
       "602      27107.0  2.882412e+11  2006-02-15 09:45:30.000  "
      ]
     },
     "execution_count": 151,
     "metadata": {},
     "output_type": "execute_result"
    }
   ],
   "source": [
    "#Ultimas linhas do conjunto de dados\n",
    "address.tail()"
   ]
  },
  {
   "cell_type": "code",
   "execution_count": 152,
   "id": "819ee7a6",
   "metadata": {},
   "outputs": [
    {
     "name": "stdout",
     "output_type": "stream",
     "text": [
      "Linhas duplicadas:\n",
      "Empty DataFrame\n",
      "Columns: [address_id, address, address2, district, city_id, postal_code, phone, last_update]\n",
      "Index: []\n"
     ]
    }
   ],
   "source": [
    "# Verificando se existem linhas duplicadas\n",
    "linhas_duplicadas = address[address.duplicated()]\n",
    "print(\"Linhas duplicadas:\")\n",
    "print(linhas_duplicadas)"
   ]
  },
  {
   "cell_type": "code",
   "execution_count": 153,
   "id": "9b4cac1b",
   "metadata": {},
   "outputs": [
    {
     "name": "stdout",
     "output_type": "stream",
     "text": [
      "Quantidade de valores nulos (NaN) ou em branco em cada coluna:\n",
      "address_id       0\n",
      "address          0\n",
      "address2       603\n",
      "district         3\n",
      "city_id          0\n",
      "postal_code      4\n",
      "phone            2\n",
      "last_update      0\n",
      "dtype: int64\n"
     ]
    }
   ],
   "source": [
    "# Verificar a quantidade de valores nulos (NaN) ou em branco em cada coluna\n",
    "valores_nulos  = address.isnull().sum()\n",
    "print(\"Quantidade de valores nulos (NaN) ou em branco em cada coluna:\")\n",
    "print(valores_nulos )"
   ]
  },
  {
   "cell_type": "code",
   "execution_count": 154,
   "id": "9e115fe1-439e-4e59-b959-2b4d0a30ba37",
   "metadata": {},
   "outputs": [],
   "source": [
    "# Excluindo a coluna address2 (vazia)\n",
    "address = pd.DataFrame(address)\n",
    "address = address.drop(\"address2\", axis=1)"
   ]
  },
  {
   "cell_type": "code",
   "execution_count": 155,
   "id": "fc6d75dd-632b-4fd6-920b-f6df6d8fafd9",
   "metadata": {},
   "outputs": [],
   "source": [
    "# Tratamento coluna district\n",
    "address['district'] = address['district'].fillna(' - ') # Preenchendo os espaços vazios\n",
    "\n",
    "# Tratamento coluna postal_code\n",
    "address['postal_code'] = address['postal_code'].fillna('000') # Preenchendo os espaços vazios\n",
    "address['postal_code'] = address['postal_code'].astype(int) # Alterando de float64 para int\n",
    "\n",
    "# Alterando coluna phone: Preenchendo espaços vazios e alterando de float para str\n",
    "address['phone'] = address['phone'].fillna('000').astype(str)\n"
   ]
  },
  {
   "cell_type": "code",
   "execution_count": 156,
   "id": "aae007a3",
   "metadata": {},
   "outputs": [
    {
     "name": "stdout",
     "output_type": "stream",
     "text": [
      "Quantidade de valores nulos (NaN) ou em branco em cada coluna:\n",
      "address_id     0\n",
      "address        0\n",
      "district       0\n",
      "city_id        0\n",
      "postal_code    0\n",
      "phone          0\n",
      "last_update    0\n",
      "dtype: int64\n"
     ]
    }
   ],
   "source": [
    "# Visualizando valores nulos (NaN) ou em branco após alterações\n",
    "valores_nulos = address.isnull().sum()\n",
    "print(\"Quantidade de valores nulos (NaN) ou em branco em cada coluna:\")\n",
    "print(valores_nulos)"
   ]
  },
  {
   "cell_type": "code",
   "execution_count": 157,
   "id": "735cfb8f-1e7b-475d-972a-4ab059549822",
   "metadata": {},
   "outputs": [
    {
     "name": "stdout",
     "output_type": "stream",
     "text": [
      "address_id      int64\n",
      "address        object\n",
      "district       object\n",
      "city_id         int64\n",
      "postal_code     int32\n",
      "phone          object\n",
      "last_update    object\n",
      "dtype: object\n"
     ]
    }
   ],
   "source": [
    "# Visualizando o tipo das colunas\n",
    "print(address.dtypes)"
   ]
  },
  {
   "cell_type": "code",
   "execution_count": 158,
   "id": "18c417cb",
   "metadata": {},
   "outputs": [],
   "source": [
    "# Alteração da coluna last_update para DateTime\n",
    "address['last_update'] = pd.to_datetime(address['last_update'])"
   ]
  },
  {
   "cell_type": "code",
   "execution_count": 159,
   "id": "9aca2583",
   "metadata": {},
   "outputs": [
    {
     "name": "stdout",
     "output_type": "stream",
     "text": [
      "address_id              int64\n",
      "address                object\n",
      "district               object\n",
      "city_id                 int64\n",
      "postal_code             int32\n",
      "phone                  object\n",
      "last_update    datetime64[ns]\n",
      "dtype: object\n"
     ]
    }
   ],
   "source": [
    "# Visualizando o tipo das colunas após alteração acima\n",
    "print(address.dtypes)"
   ]
  },
  {
   "cell_type": "code",
   "execution_count": 160,
   "id": "e25ec953-7f0a-4df6-9f1f-32cd1c061b66",
   "metadata": {},
   "outputs": [
    {
     "data": {
      "text/html": [
       "<div>\n",
       "<style scoped>\n",
       "    .dataframe tbody tr th:only-of-type {\n",
       "        vertical-align: middle;\n",
       "    }\n",
       "\n",
       "    .dataframe tbody tr th {\n",
       "        vertical-align: top;\n",
       "    }\n",
       "\n",
       "    .dataframe thead th {\n",
       "        text-align: right;\n",
       "    }\n",
       "</style>\n",
       "<table border=\"1\" class=\"dataframe\">\n",
       "  <thead>\n",
       "    <tr style=\"text-align: right;\">\n",
       "      <th></th>\n",
       "      <th>address_id</th>\n",
       "      <th>address</th>\n",
       "      <th>district</th>\n",
       "      <th>city_id</th>\n",
       "      <th>postal_code</th>\n",
       "      <th>phone</th>\n",
       "      <th>last_update</th>\n",
       "    </tr>\n",
       "  </thead>\n",
       "  <tbody>\n",
       "    <tr>\n",
       "      <th>0</th>\n",
       "      <td>1</td>\n",
       "      <td>47 MySakila Drive</td>\n",
       "      <td>Alberta</td>\n",
       "      <td>300</td>\n",
       "      <td>0</td>\n",
       "      <td>000</td>\n",
       "      <td>2006-02-15 09:45:30</td>\n",
       "    </tr>\n",
       "    <tr>\n",
       "      <th>1</th>\n",
       "      <td>2</td>\n",
       "      <td>28 MySQL Boulevard</td>\n",
       "      <td>QLD</td>\n",
       "      <td>576</td>\n",
       "      <td>0</td>\n",
       "      <td>000</td>\n",
       "      <td>2006-02-15 09:45:30</td>\n",
       "    </tr>\n",
       "    <tr>\n",
       "      <th>2</th>\n",
       "      <td>3</td>\n",
       "      <td>23 Workhaven Lane</td>\n",
       "      <td>Alberta</td>\n",
       "      <td>300</td>\n",
       "      <td>0</td>\n",
       "      <td>14033335568.0</td>\n",
       "      <td>2006-02-15 09:45:30</td>\n",
       "    </tr>\n",
       "    <tr>\n",
       "      <th>3</th>\n",
       "      <td>4</td>\n",
       "      <td>1411 Lillydale Drive</td>\n",
       "      <td>QLD</td>\n",
       "      <td>576</td>\n",
       "      <td>0</td>\n",
       "      <td>6172235589.0</td>\n",
       "      <td>2006-02-15 09:45:30</td>\n",
       "    </tr>\n",
       "    <tr>\n",
       "      <th>4</th>\n",
       "      <td>5</td>\n",
       "      <td>1913 Hanoi Way</td>\n",
       "      <td>Nagasaki</td>\n",
       "      <td>463</td>\n",
       "      <td>35200</td>\n",
       "      <td>28303384290.0</td>\n",
       "      <td>2006-02-15 09:45:30</td>\n",
       "    </tr>\n",
       "  </tbody>\n",
       "</table>\n",
       "</div>"
      ],
      "text/plain": [
       "   address_id               address  district  city_id  postal_code  \\\n",
       "0           1     47 MySakila Drive   Alberta      300            0   \n",
       "1           2    28 MySQL Boulevard       QLD      576            0   \n",
       "2           3     23 Workhaven Lane   Alberta      300            0   \n",
       "3           4  1411 Lillydale Drive       QLD      576            0   \n",
       "4           5        1913 Hanoi Way  Nagasaki      463        35200   \n",
       "\n",
       "           phone         last_update  \n",
       "0            000 2006-02-15 09:45:30  \n",
       "1            000 2006-02-15 09:45:30  \n",
       "2  14033335568.0 2006-02-15 09:45:30  \n",
       "3   6172235589.0 2006-02-15 09:45:30  \n",
       "4  28303384290.0 2006-02-15 09:45:30  "
      ]
     },
     "execution_count": 160,
     "metadata": {},
     "output_type": "execute_result"
    }
   ],
   "source": [
    "# Visualizando as 5 primeiras linhas após alterações\n",
    "address.head()"
   ]
  },
  {
   "cell_type": "markdown",
   "id": "774db2dc-4556-45d1-b721-9a489dc62c0a",
   "metadata": {},
   "source": [
    "#### Análise exploratória - Category"
   ]
  },
  {
   "cell_type": "code",
   "execution_count": 161,
   "id": "815dcb66-4ff8-41e9-b5e9-963c30e4f928",
   "metadata": {},
   "outputs": [],
   "source": [
    "#Leitura do arquivo \n",
    "category = pd.read_csv(\"category.csv\")"
   ]
  },
  {
   "cell_type": "code",
   "execution_count": 162,
   "id": "21ea65fc",
   "metadata": {},
   "outputs": [
    {
     "name": "stdout",
     "output_type": "stream",
     "text": [
      "Esse é o total de linhas e colunas:\n",
      "(16, 3)\n"
     ]
    }
   ],
   "source": [
    "# Total de linhas e colunas\n",
    "total_linhas_colunas = category.shape\n",
    "print(\"Esse é o total de linhas e colunas:\")\n",
    "print(total_linhas_colunas)"
   ]
  },
  {
   "cell_type": "code",
   "execution_count": 163,
   "id": "e906e726",
   "metadata": {},
   "outputs": [
    {
     "name": "stdout",
     "output_type": "stream",
     "text": [
      "Linhas duplicadas:\n",
      "Empty DataFrame\n",
      "Columns: [category_id, name, last_update]\n",
      "Index: []\n"
     ]
    }
   ],
   "source": [
    "# Verificando se existem linhas duplicadas\n",
    "linhas_duplicadas = category[category.duplicated()]\n",
    "print(\"Linhas duplicadas:\")\n",
    "print(linhas_duplicadas)"
   ]
  },
  {
   "cell_type": "code",
   "execution_count": 164,
   "id": "4938d776",
   "metadata": {},
   "outputs": [
    {
     "name": "stdout",
     "output_type": "stream",
     "text": [
      "Quantidade de valores nulos (NaN) ou em branco em cada coluna:\n",
      "category_id    0\n",
      "name           0\n",
      "last_update    0\n",
      "dtype: int64\n"
     ]
    }
   ],
   "source": [
    "# Verificando se há valores nulos (NaN) ou em branco em cada coluna\n",
    "valores_nulos = category.isnull().sum()\n",
    "print(\"Quantidade de valores nulos (NaN) ou em branco em cada coluna:\")\n",
    "print(valores_nulos)"
   ]
  },
  {
   "cell_type": "code",
   "execution_count": 165,
   "id": "326aa234-9467-4064-96f2-7b3898e1b4cc",
   "metadata": {},
   "outputs": [
    {
     "name": "stdout",
     "output_type": "stream",
     "text": [
      "category_id     int64\n",
      "name           object\n",
      "last_update    object\n",
      "dtype: object\n"
     ]
    }
   ],
   "source": [
    "# Visualizando o tipo das colunas\n",
    "print(category.dtypes)"
   ]
  },
  {
   "cell_type": "code",
   "execution_count": 166,
   "id": "66c638a4-873e-4ae1-b85c-b1e0755e8676",
   "metadata": {},
   "outputs": [],
   "source": [
    "# Alteração da coluna last_update para DateTime\n",
    "category['last_update'] = pd.to_datetime(category['last_update'])"
   ]
  },
  {
   "cell_type": "code",
   "execution_count": 167,
   "id": "df72b149",
   "metadata": {},
   "outputs": [
    {
     "name": "stdout",
     "output_type": "stream",
     "text": [
      "category_id             int64\n",
      "name                   object\n",
      "last_update    datetime64[ns]\n",
      "dtype: object\n"
     ]
    }
   ],
   "source": [
    "# Visualizando o tipo das colunas após alteração\n",
    "print(category.dtypes)"
   ]
  },
  {
   "cell_type": "code",
   "execution_count": 168,
   "id": "ce57c602-c58c-41a5-8071-eedc72956f3e",
   "metadata": {},
   "outputs": [
    {
     "data": {
      "text/html": [
       "<div>\n",
       "<style scoped>\n",
       "    .dataframe tbody tr th:only-of-type {\n",
       "        vertical-align: middle;\n",
       "    }\n",
       "\n",
       "    .dataframe tbody tr th {\n",
       "        vertical-align: top;\n",
       "    }\n",
       "\n",
       "    .dataframe thead th {\n",
       "        text-align: right;\n",
       "    }\n",
       "</style>\n",
       "<table border=\"1\" class=\"dataframe\">\n",
       "  <thead>\n",
       "    <tr style=\"text-align: right;\">\n",
       "      <th></th>\n",
       "      <th>category_id</th>\n",
       "      <th>name</th>\n",
       "      <th>last_update</th>\n",
       "    </tr>\n",
       "  </thead>\n",
       "  <tbody>\n",
       "    <tr>\n",
       "      <th>0</th>\n",
       "      <td>1</td>\n",
       "      <td>Action</td>\n",
       "      <td>2006-02-15 09:46:27</td>\n",
       "    </tr>\n",
       "    <tr>\n",
       "      <th>1</th>\n",
       "      <td>2</td>\n",
       "      <td>Animation</td>\n",
       "      <td>2006-02-15 09:46:27</td>\n",
       "    </tr>\n",
       "    <tr>\n",
       "      <th>2</th>\n",
       "      <td>3</td>\n",
       "      <td>Children</td>\n",
       "      <td>2006-02-15 09:46:27</td>\n",
       "    </tr>\n",
       "    <tr>\n",
       "      <th>3</th>\n",
       "      <td>4</td>\n",
       "      <td>Classics</td>\n",
       "      <td>2006-02-15 09:46:27</td>\n",
       "    </tr>\n",
       "    <tr>\n",
       "      <th>4</th>\n",
       "      <td>5</td>\n",
       "      <td>Comedy</td>\n",
       "      <td>2006-02-15 09:46:27</td>\n",
       "    </tr>\n",
       "  </tbody>\n",
       "</table>\n",
       "</div>"
      ],
      "text/plain": [
       "   category_id       name         last_update\n",
       "0            1     Action 2006-02-15 09:46:27\n",
       "1            2  Animation 2006-02-15 09:46:27\n",
       "2            3   Children 2006-02-15 09:46:27\n",
       "3            4   Classics 2006-02-15 09:46:27\n",
       "4            5     Comedy 2006-02-15 09:46:27"
      ]
     },
     "execution_count": 168,
     "metadata": {},
     "output_type": "execute_result"
    }
   ],
   "source": [
    "#Visualizando as 5 primeiras linhas após alteração\n",
    "category.head()"
   ]
  },
  {
   "cell_type": "markdown",
   "id": "4c450d7a-0beb-4de0-942f-4d6eaf47bef2",
   "metadata": {},
   "source": [
    "#### Análise exploratória - CITY"
   ]
  },
  {
   "cell_type": "code",
   "execution_count": 169,
   "id": "e663a7ce-8ee1-43b1-8341-07842c8a0c14",
   "metadata": {},
   "outputs": [],
   "source": [
    "#Leitura do arquivo \n",
    "city = pd.read_csv(\"city.csv\")"
   ]
  },
  {
   "cell_type": "code",
   "execution_count": 170,
   "id": "23c57ed0",
   "metadata": {},
   "outputs": [
    {
     "name": "stdout",
     "output_type": "stream",
     "text": [
      "Esse é o total de linhas e colunas:\n",
      "(600, 4)\n"
     ]
    }
   ],
   "source": [
    "# Total de linhas e colunas\n",
    "total_linhas_colunas = city.shape\n",
    "print(\"Esse é o total de linhas e colunas:\")\n",
    "print(total_linhas_colunas)"
   ]
  },
  {
   "cell_type": "code",
   "execution_count": 171,
   "id": "c622df30",
   "metadata": {},
   "outputs": [
    {
     "name": "stdout",
     "output_type": "stream",
     "text": [
      "Linhas duplicadas:\n",
      "Empty DataFrame\n",
      "Columns: [city_id, city, country_id, last_update]\n",
      "Index: []\n"
     ]
    }
   ],
   "source": [
    "# Verificando se existem linhas duplicadas\n",
    "linhas_duplicadas = city[city.duplicated()]\n",
    "print(\"Linhas duplicadas:\")\n",
    "print(linhas_duplicadas)"
   ]
  },
  {
   "cell_type": "code",
   "execution_count": 172,
   "id": "fccd369c",
   "metadata": {},
   "outputs": [
    {
     "name": "stdout",
     "output_type": "stream",
     "text": [
      "Quantidade de valores nulos (NaN) ou em branco em cada coluna:\n",
      "city_id        0\n",
      "city           0\n",
      "country_id     0\n",
      "last_update    0\n",
      "dtype: int64\n"
     ]
    }
   ],
   "source": [
    "# Verificando se há valores nulos (NaN) ou em branco em cada coluna\n",
    "valores_nulos = city.isnull().sum()\n",
    "print(\"Quantidade de valores nulos (NaN) ou em branco em cada coluna:\")\n",
    "print(valores_nulos)"
   ]
  },
  {
   "cell_type": "code",
   "execution_count": 173,
   "id": "293c1042",
   "metadata": {},
   "outputs": [
    {
     "data": {
      "text/html": [
       "<div>\n",
       "<style scoped>\n",
       "    .dataframe tbody tr th:only-of-type {\n",
       "        vertical-align: middle;\n",
       "    }\n",
       "\n",
       "    .dataframe tbody tr th {\n",
       "        vertical-align: top;\n",
       "    }\n",
       "\n",
       "    .dataframe thead th {\n",
       "        text-align: right;\n",
       "    }\n",
       "</style>\n",
       "<table border=\"1\" class=\"dataframe\">\n",
       "  <thead>\n",
       "    <tr style=\"text-align: right;\">\n",
       "      <th></th>\n",
       "      <th>city_id</th>\n",
       "      <th>city</th>\n",
       "      <th>country_id</th>\n",
       "      <th>last_update</th>\n",
       "    </tr>\n",
       "  </thead>\n",
       "  <tbody>\n",
       "    <tr>\n",
       "      <th>0</th>\n",
       "      <td>1</td>\n",
       "      <td>A Corua (La Corua)</td>\n",
       "      <td>87</td>\n",
       "      <td>2006-02-15 09:45:25.000</td>\n",
       "    </tr>\n",
       "    <tr>\n",
       "      <th>1</th>\n",
       "      <td>2</td>\n",
       "      <td>Abha</td>\n",
       "      <td>82</td>\n",
       "      <td>2006-02-15 09:45:25.000</td>\n",
       "    </tr>\n",
       "    <tr>\n",
       "      <th>2</th>\n",
       "      <td>3</td>\n",
       "      <td>Abu Dhabi</td>\n",
       "      <td>101</td>\n",
       "      <td>2006-02-15 09:45:25.000</td>\n",
       "    </tr>\n",
       "    <tr>\n",
       "      <th>3</th>\n",
       "      <td>4</td>\n",
       "      <td>Acua</td>\n",
       "      <td>60</td>\n",
       "      <td>2006-02-15 09:45:25.000</td>\n",
       "    </tr>\n",
       "    <tr>\n",
       "      <th>4</th>\n",
       "      <td>5</td>\n",
       "      <td>Adana</td>\n",
       "      <td>97</td>\n",
       "      <td>2006-02-15 09:45:25.000</td>\n",
       "    </tr>\n",
       "  </tbody>\n",
       "</table>\n",
       "</div>"
      ],
      "text/plain": [
       "   city_id                city  country_id              last_update\n",
       "0        1  A Corua (La Corua)          87  2006-02-15 09:45:25.000\n",
       "1        2                Abha          82  2006-02-15 09:45:25.000\n",
       "2        3           Abu Dhabi         101  2006-02-15 09:45:25.000\n",
       "3        4                Acua          60  2006-02-15 09:45:25.000\n",
       "4        5               Adana          97  2006-02-15 09:45:25.000"
      ]
     },
     "execution_count": 173,
     "metadata": {},
     "output_type": "execute_result"
    }
   ],
   "source": [
    "#Visualizando as 5 primeiras linhas\n",
    "city.head()"
   ]
  },
  {
   "cell_type": "code",
   "execution_count": 174,
   "id": "3a28d35d-984d-4149-8ba7-45c4a16d7497",
   "metadata": {},
   "outputs": [
    {
     "name": "stdout",
     "output_type": "stream",
     "text": [
      "city_id         int64\n",
      "city           object\n",
      "country_id      int64\n",
      "last_update    object\n",
      "dtype: object\n"
     ]
    }
   ],
   "source": [
    "#Visualizando o tipo das colunas\n",
    "print(city.dtypes)"
   ]
  },
  {
   "cell_type": "code",
   "execution_count": 175,
   "id": "3b74e890-9f4d-4c45-a9ab-c28308ee1ff9",
   "metadata": {},
   "outputs": [],
   "source": [
    "# Alteração da coluna last_update:\n",
    "city['last_update'] = pd.to_datetime(city['last_update']) #Alterando para DateTime"
   ]
  },
  {
   "cell_type": "code",
   "execution_count": 176,
   "id": "c81072d3-5fc6-487c-9edc-57336bb3e38c",
   "metadata": {},
   "outputs": [
    {
     "name": "stdout",
     "output_type": "stream",
     "text": [
      "city_id                 int64\n",
      "city                   object\n",
      "country_id              int64\n",
      "last_update    datetime64[ns]\n",
      "dtype: object\n"
     ]
    }
   ],
   "source": [
    "#Visualizando tipo das colunas, após a mudança\n",
    "print(city.dtypes)"
   ]
  },
  {
   "cell_type": "code",
   "execution_count": 177,
   "id": "7a8eddf3-adf1-4184-8fe8-8038b734c5c3",
   "metadata": {},
   "outputs": [
    {
     "data": {
      "text/html": [
       "<div>\n",
       "<style scoped>\n",
       "    .dataframe tbody tr th:only-of-type {\n",
       "        vertical-align: middle;\n",
       "    }\n",
       "\n",
       "    .dataframe tbody tr th {\n",
       "        vertical-align: top;\n",
       "    }\n",
       "\n",
       "    .dataframe thead th {\n",
       "        text-align: right;\n",
       "    }\n",
       "</style>\n",
       "<table border=\"1\" class=\"dataframe\">\n",
       "  <thead>\n",
       "    <tr style=\"text-align: right;\">\n",
       "      <th></th>\n",
       "      <th>city_id</th>\n",
       "      <th>city</th>\n",
       "      <th>country_id</th>\n",
       "      <th>last_update</th>\n",
       "    </tr>\n",
       "  </thead>\n",
       "  <tbody>\n",
       "    <tr>\n",
       "      <th>0</th>\n",
       "      <td>1</td>\n",
       "      <td>A Corua (La Corua)</td>\n",
       "      <td>87</td>\n",
       "      <td>2006-02-15 09:45:25</td>\n",
       "    </tr>\n",
       "    <tr>\n",
       "      <th>1</th>\n",
       "      <td>2</td>\n",
       "      <td>Abha</td>\n",
       "      <td>82</td>\n",
       "      <td>2006-02-15 09:45:25</td>\n",
       "    </tr>\n",
       "    <tr>\n",
       "      <th>2</th>\n",
       "      <td>3</td>\n",
       "      <td>Abu Dhabi</td>\n",
       "      <td>101</td>\n",
       "      <td>2006-02-15 09:45:25</td>\n",
       "    </tr>\n",
       "    <tr>\n",
       "      <th>3</th>\n",
       "      <td>4</td>\n",
       "      <td>Acua</td>\n",
       "      <td>60</td>\n",
       "      <td>2006-02-15 09:45:25</td>\n",
       "    </tr>\n",
       "    <tr>\n",
       "      <th>4</th>\n",
       "      <td>5</td>\n",
       "      <td>Adana</td>\n",
       "      <td>97</td>\n",
       "      <td>2006-02-15 09:45:25</td>\n",
       "    </tr>\n",
       "  </tbody>\n",
       "</table>\n",
       "</div>"
      ],
      "text/plain": [
       "   city_id                city  country_id         last_update\n",
       "0        1  A Corua (La Corua)          87 2006-02-15 09:45:25\n",
       "1        2                Abha          82 2006-02-15 09:45:25\n",
       "2        3           Abu Dhabi         101 2006-02-15 09:45:25\n",
       "3        4                Acua          60 2006-02-15 09:45:25\n",
       "4        5               Adana          97 2006-02-15 09:45:25"
      ]
     },
     "execution_count": 177,
     "metadata": {},
     "output_type": "execute_result"
    }
   ],
   "source": [
    "#Visualizando as 5 primeiras linhas, após a mudança\n",
    "city.head()"
   ]
  },
  {
   "cell_type": "markdown",
   "id": "b4cec847-911d-4695-b844-d01961756211",
   "metadata": {},
   "source": [
    "#### Análise exploratória - COUNTRY"
   ]
  },
  {
   "cell_type": "code",
   "execution_count": 178,
   "id": "dbcccbb2-b169-44c9-9c23-bae9c55099ad",
   "metadata": {},
   "outputs": [],
   "source": [
    "#Leitura do arquivo \n",
    "country = pd.read_csv(\"country.csv\")"
   ]
  },
  {
   "cell_type": "code",
   "execution_count": 179,
   "id": "f2635e5e",
   "metadata": {},
   "outputs": [
    {
     "name": "stdout",
     "output_type": "stream",
     "text": [
      "Esse é o total de linhas e colunas:\n",
      "(109, 3)\n"
     ]
    }
   ],
   "source": [
    "# Total de linhas e colunas\n",
    "total_linhas_colunas = country.shape\n",
    "print(\"Esse é o total de linhas e colunas:\")\n",
    "print(total_linhas_colunas)"
   ]
  },
  {
   "cell_type": "code",
   "execution_count": 180,
   "id": "135e9de5",
   "metadata": {},
   "outputs": [
    {
     "name": "stdout",
     "output_type": "stream",
     "text": [
      "Linhas duplicadas:\n",
      "Empty DataFrame\n",
      "Columns: [country_id, country, last_update]\n",
      "Index: []\n"
     ]
    }
   ],
   "source": [
    "# Verificando se existem linhas duplicadas\n",
    "linhas_duplicadas = country[country.duplicated()]\n",
    "print(\"Linhas duplicadas:\")\n",
    "print(linhas_duplicadas)"
   ]
  },
  {
   "cell_type": "code",
   "execution_count": 181,
   "id": "cbcb49c2",
   "metadata": {},
   "outputs": [
    {
     "name": "stdout",
     "output_type": "stream",
     "text": [
      "Quantidade de valores nulos (NaN) ou em branco em cada coluna:\n",
      "country_id     0\n",
      "country        0\n",
      "last_update    0\n",
      "dtype: int64\n"
     ]
    }
   ],
   "source": [
    "# Verificando se há valores nulos (NaN) ou em branco em cada coluna\n",
    "valores_nulos = country.isnull().sum()\n",
    "print(\"Quantidade de valores nulos (NaN) ou em branco em cada coluna:\")\n",
    "print(valores_nulos)"
   ]
  },
  {
   "cell_type": "code",
   "execution_count": 182,
   "id": "145c599e-45bf-4f18-b6d2-eeae6e3f2299",
   "metadata": {},
   "outputs": [
    {
     "data": {
      "text/html": [
       "<div>\n",
       "<style scoped>\n",
       "    .dataframe tbody tr th:only-of-type {\n",
       "        vertical-align: middle;\n",
       "    }\n",
       "\n",
       "    .dataframe tbody tr th {\n",
       "        vertical-align: top;\n",
       "    }\n",
       "\n",
       "    .dataframe thead th {\n",
       "        text-align: right;\n",
       "    }\n",
       "</style>\n",
       "<table border=\"1\" class=\"dataframe\">\n",
       "  <thead>\n",
       "    <tr style=\"text-align: right;\">\n",
       "      <th></th>\n",
       "      <th>country_id</th>\n",
       "      <th>country</th>\n",
       "      <th>last_update</th>\n",
       "    </tr>\n",
       "  </thead>\n",
       "  <tbody>\n",
       "    <tr>\n",
       "      <th>0</th>\n",
       "      <td>1</td>\n",
       "      <td>Afghanistan</td>\n",
       "      <td>2006-02-15 09:44:00.000</td>\n",
       "    </tr>\n",
       "    <tr>\n",
       "      <th>1</th>\n",
       "      <td>2</td>\n",
       "      <td>Algeria</td>\n",
       "      <td>2006-02-15 09:44:00.000</td>\n",
       "    </tr>\n",
       "    <tr>\n",
       "      <th>2</th>\n",
       "      <td>3</td>\n",
       "      <td>American Samoa</td>\n",
       "      <td>2006-02-15 09:44:00.000</td>\n",
       "    </tr>\n",
       "    <tr>\n",
       "      <th>3</th>\n",
       "      <td>4</td>\n",
       "      <td>Angola</td>\n",
       "      <td>2006-02-15 09:44:00.000</td>\n",
       "    </tr>\n",
       "    <tr>\n",
       "      <th>4</th>\n",
       "      <td>5</td>\n",
       "      <td>Anguilla</td>\n",
       "      <td>2006-02-15 09:44:00.000</td>\n",
       "    </tr>\n",
       "  </tbody>\n",
       "</table>\n",
       "</div>"
      ],
      "text/plain": [
       "   country_id         country              last_update\n",
       "0           1     Afghanistan  2006-02-15 09:44:00.000\n",
       "1           2         Algeria  2006-02-15 09:44:00.000\n",
       "2           3  American Samoa  2006-02-15 09:44:00.000\n",
       "3           4          Angola  2006-02-15 09:44:00.000\n",
       "4           5        Anguilla  2006-02-15 09:44:00.000"
      ]
     },
     "execution_count": 182,
     "metadata": {},
     "output_type": "execute_result"
    }
   ],
   "source": [
    "# Visulizando as 5 primeiras linhas\n",
    "country.head()"
   ]
  },
  {
   "cell_type": "code",
   "execution_count": 183,
   "id": "e1338586-61ee-4d78-8ad2-50ae06bba4f3",
   "metadata": {},
   "outputs": [
    {
     "name": "stdout",
     "output_type": "stream",
     "text": [
      "country_id      int64\n",
      "country        object\n",
      "last_update    object\n",
      "dtype: object\n"
     ]
    }
   ],
   "source": [
    "# Visualizando o tipo das colunas\n",
    "print(country.dtypes)"
   ]
  },
  {
   "cell_type": "code",
   "execution_count": 184,
   "id": "80157702-1ca3-4e29-9a8a-e87c7cafd549",
   "metadata": {},
   "outputs": [],
   "source": [
    "# Alteração da coluna last_update:\n",
    "country['last_update'] = pd.to_datetime(country['last_update']) #Alterando para DateTime"
   ]
  },
  {
   "cell_type": "code",
   "execution_count": 185,
   "id": "b9182976-a28c-4ae2-8188-a92e7dfb1b12",
   "metadata": {},
   "outputs": [
    {
     "name": "stdout",
     "output_type": "stream",
     "text": [
      "country_id              int64\n",
      "country                object\n",
      "last_update    datetime64[ns]\n",
      "dtype: object\n"
     ]
    }
   ],
   "source": [
    "# Visualizando o tipo das colunas, após a alteração\n",
    "print(country.dtypes)"
   ]
  },
  {
   "cell_type": "markdown",
   "id": "64c05068-0621-44a5-8b2d-f1e1908c2044",
   "metadata": {},
   "source": [
    "#### Análise exploratória - CUSTOMER"
   ]
  },
  {
   "cell_type": "code",
   "execution_count": 186,
   "id": "dd5b0556-1cbc-400a-8071-50a12810c98f",
   "metadata": {},
   "outputs": [],
   "source": [
    "#Leitura do arquivo \n",
    "customer = pd.read_csv(\"customer.csv\")"
   ]
  },
  {
   "cell_type": "code",
   "execution_count": 187,
   "id": "0a77ec19",
   "metadata": {},
   "outputs": [
    {
     "name": "stdout",
     "output_type": "stream",
     "text": [
      "Esse é o total de linhas e colunas:\n",
      "(599, 10)\n"
     ]
    }
   ],
   "source": [
    "# Total de linhas e colunas\n",
    "total_linhas_colunas = customer.shape\n",
    "print(\"Esse é o total de linhas e colunas:\")\n",
    "print(total_linhas_colunas)"
   ]
  },
  {
   "cell_type": "code",
   "execution_count": 188,
   "id": "f6910393",
   "metadata": {},
   "outputs": [
    {
     "name": "stdout",
     "output_type": "stream",
     "text": [
      "Linhas duplicadas:\n",
      "Empty DataFrame\n",
      "Columns: [customer_id, store_id, first_name, last_name, email, address_id, activebool, create_date, last_update, active]\n",
      "Index: []\n"
     ]
    }
   ],
   "source": [
    "# Verificando se existem linhas duplicadas\n",
    "linhas_duplicadas = customer[customer.duplicated()]\n",
    "print(\"Linhas duplicadas:\")\n",
    "print(linhas_duplicadas)"
   ]
  },
  {
   "cell_type": "code",
   "execution_count": 189,
   "id": "568501a6",
   "metadata": {},
   "outputs": [
    {
     "name": "stdout",
     "output_type": "stream",
     "text": [
      "Quantidade de valores nulos (NaN) ou em branco em cada coluna:\n",
      "customer_id    0\n",
      "store_id       0\n",
      "first_name     0\n",
      "last_name      0\n",
      "email          0\n",
      "address_id     0\n",
      "activebool     0\n",
      "create_date    0\n",
      "last_update    0\n",
      "active         0\n",
      "dtype: int64\n"
     ]
    }
   ],
   "source": [
    "# Verificando se há valores nulos (NaN) ou em branco em cada coluna\n",
    "valores_nulos = customer.isnull().sum()\n",
    "print(\"Quantidade de valores nulos (NaN) ou em branco em cada coluna:\")\n",
    "print(valores_nulos)"
   ]
  },
  {
   "cell_type": "code",
   "execution_count": 190,
   "id": "bb29d679-a776-4528-9a8a-6097803f42c5",
   "metadata": {},
   "outputs": [
    {
     "data": {
      "text/html": [
       "<div>\n",
       "<style scoped>\n",
       "    .dataframe tbody tr th:only-of-type {\n",
       "        vertical-align: middle;\n",
       "    }\n",
       "\n",
       "    .dataframe tbody tr th {\n",
       "        vertical-align: top;\n",
       "    }\n",
       "\n",
       "    .dataframe thead th {\n",
       "        text-align: right;\n",
       "    }\n",
       "</style>\n",
       "<table border=\"1\" class=\"dataframe\">\n",
       "  <thead>\n",
       "    <tr style=\"text-align: right;\">\n",
       "      <th></th>\n",
       "      <th>customer_id</th>\n",
       "      <th>store_id</th>\n",
       "      <th>first_name</th>\n",
       "      <th>last_name</th>\n",
       "      <th>email</th>\n",
       "      <th>address_id</th>\n",
       "      <th>activebool</th>\n",
       "      <th>create_date</th>\n",
       "      <th>last_update</th>\n",
       "      <th>active</th>\n",
       "    </tr>\n",
       "  </thead>\n",
       "  <tbody>\n",
       "    <tr>\n",
       "      <th>0</th>\n",
       "      <td>524</td>\n",
       "      <td>1</td>\n",
       "      <td>Jared</td>\n",
       "      <td>Ely</td>\n",
       "      <td>jared.ely@sakilacustomer.org</td>\n",
       "      <td>530</td>\n",
       "      <td>True</td>\n",
       "      <td>2006-02-14</td>\n",
       "      <td>2013-05-26 14:49:45.738</td>\n",
       "      <td>1</td>\n",
       "    </tr>\n",
       "    <tr>\n",
       "      <th>1</th>\n",
       "      <td>1</td>\n",
       "      <td>1</td>\n",
       "      <td>Mary</td>\n",
       "      <td>Smith</td>\n",
       "      <td>mary.smith@sakilacustomer.org</td>\n",
       "      <td>5</td>\n",
       "      <td>True</td>\n",
       "      <td>2006-02-14</td>\n",
       "      <td>2013-05-26 14:49:45.738</td>\n",
       "      <td>1</td>\n",
       "    </tr>\n",
       "    <tr>\n",
       "      <th>2</th>\n",
       "      <td>2</td>\n",
       "      <td>1</td>\n",
       "      <td>Patricia</td>\n",
       "      <td>Johnson</td>\n",
       "      <td>patricia.johnson@sakilacustomer.org</td>\n",
       "      <td>6</td>\n",
       "      <td>True</td>\n",
       "      <td>2006-02-14</td>\n",
       "      <td>2013-05-26 14:49:45.738</td>\n",
       "      <td>1</td>\n",
       "    </tr>\n",
       "    <tr>\n",
       "      <th>3</th>\n",
       "      <td>3</td>\n",
       "      <td>1</td>\n",
       "      <td>Linda</td>\n",
       "      <td>Williams</td>\n",
       "      <td>linda.williams@sakilacustomer.org</td>\n",
       "      <td>7</td>\n",
       "      <td>True</td>\n",
       "      <td>2006-02-14</td>\n",
       "      <td>2013-05-26 14:49:45.738</td>\n",
       "      <td>1</td>\n",
       "    </tr>\n",
       "    <tr>\n",
       "      <th>4</th>\n",
       "      <td>4</td>\n",
       "      <td>2</td>\n",
       "      <td>Barbara</td>\n",
       "      <td>Jones</td>\n",
       "      <td>barbara.jones@sakilacustomer.org</td>\n",
       "      <td>8</td>\n",
       "      <td>True</td>\n",
       "      <td>2006-02-14</td>\n",
       "      <td>2013-05-26 14:49:45.738</td>\n",
       "      <td>1</td>\n",
       "    </tr>\n",
       "  </tbody>\n",
       "</table>\n",
       "</div>"
      ],
      "text/plain": [
       "   customer_id  store_id first_name last_name  \\\n",
       "0          524         1      Jared       Ely   \n",
       "1            1         1       Mary     Smith   \n",
       "2            2         1   Patricia   Johnson   \n",
       "3            3         1      Linda  Williams   \n",
       "4            4         2    Barbara     Jones   \n",
       "\n",
       "                                 email  address_id  activebool create_date  \\\n",
       "0         jared.ely@sakilacustomer.org         530        True  2006-02-14   \n",
       "1        mary.smith@sakilacustomer.org           5        True  2006-02-14   \n",
       "2  patricia.johnson@sakilacustomer.org           6        True  2006-02-14   \n",
       "3    linda.williams@sakilacustomer.org           7        True  2006-02-14   \n",
       "4     barbara.jones@sakilacustomer.org           8        True  2006-02-14   \n",
       "\n",
       "               last_update  active  \n",
       "0  2013-05-26 14:49:45.738       1  \n",
       "1  2013-05-26 14:49:45.738       1  \n",
       "2  2013-05-26 14:49:45.738       1  \n",
       "3  2013-05-26 14:49:45.738       1  \n",
       "4  2013-05-26 14:49:45.738       1  "
      ]
     },
     "execution_count": 190,
     "metadata": {},
     "output_type": "execute_result"
    }
   ],
   "source": [
    "# Visualizando as 5 primeiras linhas \n",
    "customer.head()"
   ]
  },
  {
   "cell_type": "code",
   "execution_count": 191,
   "id": "9dc2a8b5-4851-4ffa-a45d-4e1a0790525f",
   "metadata": {},
   "outputs": [
    {
     "name": "stdout",
     "output_type": "stream",
     "text": [
      "customer_id     int64\n",
      "store_id        int64\n",
      "first_name     object\n",
      "last_name      object\n",
      "email          object\n",
      "address_id      int64\n",
      "activebool       bool\n",
      "create_date    object\n",
      "last_update    object\n",
      "active          int64\n",
      "dtype: object\n"
     ]
    }
   ],
   "source": [
    "# Visualizando o tipo das colunas\n",
    "print(customer.dtypes)"
   ]
  },
  {
   "cell_type": "code",
   "execution_count": 192,
   "id": "2453912a-958e-4d44-bffb-2de2c97efe2d",
   "metadata": {},
   "outputs": [],
   "source": [
    "# Alteração da coluna last_update:\n",
    "customer['last_update'] = pd.to_datetime(customer['last_update']) #Alterando para DateTime"
   ]
  },
  {
   "cell_type": "code",
   "execution_count": 193,
   "id": "4c2498c8-0baf-444d-beb1-514945a082c6",
   "metadata": {},
   "outputs": [
    {
     "name": "stdout",
     "output_type": "stream",
     "text": [
      "customer_id             int64\n",
      "store_id                int64\n",
      "first_name             object\n",
      "last_name              object\n",
      "email                  object\n",
      "address_id              int64\n",
      "activebool               bool\n",
      "create_date            object\n",
      "last_update    datetime64[ns]\n",
      "active                  int64\n",
      "dtype: object\n"
     ]
    }
   ],
   "source": [
    "# Visualizando o tipo das colunas, após a alterção\n",
    "print(customer.dtypes)"
   ]
  },
  {
   "cell_type": "markdown",
   "id": "d8dafb1f-39ae-46bf-9e1e-0aa0da5d0acb",
   "metadata": {},
   "source": [
    "#### Análise exploratória - FILM"
   ]
  },
  {
   "cell_type": "code",
   "execution_count": 194,
   "id": "0c5c58ae-b39c-4d05-8e2a-a4ef6c3cc199",
   "metadata": {},
   "outputs": [],
   "source": [
    "#Leitura do arquivo \n",
    "film = pd.read_csv(\"film.csv\")"
   ]
  },
  {
   "cell_type": "code",
   "execution_count": 195,
   "id": "27a91b7b",
   "metadata": {},
   "outputs": [
    {
     "name": "stdout",
     "output_type": "stream",
     "text": [
      "Esse é o total de linhas e colunas:\n",
      "(1000, 13)\n"
     ]
    }
   ],
   "source": [
    "# Total de linhas e colunas\n",
    "total_linhas_colunas = film.shape\n",
    "print(\"Esse é o total de linhas e colunas:\")\n",
    "print(total_linhas_colunas)"
   ]
  },
  {
   "cell_type": "code",
   "execution_count": 196,
   "id": "2b36c6c1",
   "metadata": {},
   "outputs": [
    {
     "name": "stdout",
     "output_type": "stream",
     "text": [
      "Linhas duplicadas:\n",
      "Empty DataFrame\n",
      "Columns: [film_id, title, description, release_year, language_id, rental_duration, rental_rate, length, replacement_cost, rating, last_update, special_features, fulltext]\n",
      "Index: []\n"
     ]
    }
   ],
   "source": [
    "# Verificando se existem linhas duplicadas\n",
    "linhas_duplicadas = film[film.duplicated()]\n",
    "print(\"Linhas duplicadas:\")\n",
    "print(linhas_duplicadas)"
   ]
  },
  {
   "cell_type": "code",
   "execution_count": 197,
   "id": "f21d8473",
   "metadata": {},
   "outputs": [
    {
     "name": "stdout",
     "output_type": "stream",
     "text": [
      "Quantidade de valores nulos (NaN) ou em branco em cada coluna:\n",
      "film_id             0\n",
      "title               0\n",
      "description         0\n",
      "release_year        0\n",
      "language_id         0\n",
      "rental_duration     0\n",
      "rental_rate         0\n",
      "length              0\n",
      "replacement_cost    0\n",
      "rating              0\n",
      "last_update         0\n",
      "special_features    0\n",
      "fulltext            0\n",
      "dtype: int64\n"
     ]
    }
   ],
   "source": [
    "# Verificando se há valores nulos (NaN) ou em branco em cada coluna\n",
    "valores_nulos = film.isnull().sum()\n",
    "print(\"Quantidade de valores nulos (NaN) ou em branco em cada coluna:\")\n",
    "print(valores_nulos)"
   ]
  },
  {
   "cell_type": "code",
   "execution_count": 198,
   "id": "5bdb470e-56d7-4875-8689-32b59a40c8d7",
   "metadata": {},
   "outputs": [
    {
     "data": {
      "text/html": [
       "<div>\n",
       "<style scoped>\n",
       "    .dataframe tbody tr th:only-of-type {\n",
       "        vertical-align: middle;\n",
       "    }\n",
       "\n",
       "    .dataframe tbody tr th {\n",
       "        vertical-align: top;\n",
       "    }\n",
       "\n",
       "    .dataframe thead th {\n",
       "        text-align: right;\n",
       "    }\n",
       "</style>\n",
       "<table border=\"1\" class=\"dataframe\">\n",
       "  <thead>\n",
       "    <tr style=\"text-align: right;\">\n",
       "      <th></th>\n",
       "      <th>film_id</th>\n",
       "      <th>title</th>\n",
       "      <th>description</th>\n",
       "      <th>release_year</th>\n",
       "      <th>language_id</th>\n",
       "      <th>rental_duration</th>\n",
       "      <th>rental_rate</th>\n",
       "      <th>length</th>\n",
       "      <th>replacement_cost</th>\n",
       "      <th>rating</th>\n",
       "      <th>last_update</th>\n",
       "      <th>special_features</th>\n",
       "      <th>fulltext</th>\n",
       "    </tr>\n",
       "  </thead>\n",
       "  <tbody>\n",
       "    <tr>\n",
       "      <th>0</th>\n",
       "      <td>133</td>\n",
       "      <td>Chamber Italian</td>\n",
       "      <td>A Fateful Reflection of a Moose And a Husband ...</td>\n",
       "      <td>2006</td>\n",
       "      <td>1</td>\n",
       "      <td>7</td>\n",
       "      <td>4.99</td>\n",
       "      <td>117</td>\n",
       "      <td>14.99</td>\n",
       "      <td>NC-17</td>\n",
       "      <td>2013-05-26 14:50:58.951</td>\n",
       "      <td>{Trailers}</td>\n",
       "      <td>'chamber':1 'fate':4 'husband':11 'italian':2 ...</td>\n",
       "    </tr>\n",
       "    <tr>\n",
       "      <th>1</th>\n",
       "      <td>384</td>\n",
       "      <td>Grosse Wonderful</td>\n",
       "      <td>A Epic Drama of a Cat And a Explorer who must ...</td>\n",
       "      <td>2006</td>\n",
       "      <td>1</td>\n",
       "      <td>5</td>\n",
       "      <td>4.99</td>\n",
       "      <td>49</td>\n",
       "      <td>19.99</td>\n",
       "      <td>R</td>\n",
       "      <td>2013-05-26 14:50:58.951</td>\n",
       "      <td>{\"Behind the Scenes\"}</td>\n",
       "      <td>'australia':18 'cat':8 'drama':5 'epic':4 'exp...</td>\n",
       "    </tr>\n",
       "    <tr>\n",
       "      <th>2</th>\n",
       "      <td>8</td>\n",
       "      <td>Airport Pollock</td>\n",
       "      <td>A Epic Tale of a Moose And a Girl who must Con...</td>\n",
       "      <td>2006</td>\n",
       "      <td>1</td>\n",
       "      <td>6</td>\n",
       "      <td>4.99</td>\n",
       "      <td>54</td>\n",
       "      <td>15.99</td>\n",
       "      <td>R</td>\n",
       "      <td>2013-05-26 14:50:58.951</td>\n",
       "      <td>{Trailers}</td>\n",
       "      <td>'airport':1 'ancient':18 'confront':14 'epic':...</td>\n",
       "    </tr>\n",
       "    <tr>\n",
       "      <th>3</th>\n",
       "      <td>98</td>\n",
       "      <td>Bright Encounters</td>\n",
       "      <td>A Fateful Yarn of a Lumberjack And a Feminist ...</td>\n",
       "      <td>2006</td>\n",
       "      <td>1</td>\n",
       "      <td>4</td>\n",
       "      <td>4.99</td>\n",
       "      <td>73</td>\n",
       "      <td>12.99</td>\n",
       "      <td>PG-13</td>\n",
       "      <td>2013-05-26 14:50:58.951</td>\n",
       "      <td>{Trailers}</td>\n",
       "      <td>'boat':20 'bright':1 'conquer':14 'encount':2 ...</td>\n",
       "    </tr>\n",
       "    <tr>\n",
       "      <th>4</th>\n",
       "      <td>1</td>\n",
       "      <td>Academy Dinosaur</td>\n",
       "      <td>A Epic Drama of a Feminist And a Mad Scientist...</td>\n",
       "      <td>2006</td>\n",
       "      <td>1</td>\n",
       "      <td>6</td>\n",
       "      <td>0.99</td>\n",
       "      <td>86</td>\n",
       "      <td>20.99</td>\n",
       "      <td>PG</td>\n",
       "      <td>2013-05-26 14:50:58.951</td>\n",
       "      <td>{\"Deleted Scenes\",\"Behind the Scenes\"}</td>\n",
       "      <td>'academi':1 'battl':15 'canadian':20 'dinosaur...</td>\n",
       "    </tr>\n",
       "  </tbody>\n",
       "</table>\n",
       "</div>"
      ],
      "text/plain": [
       "   film_id              title  \\\n",
       "0      133    Chamber Italian   \n",
       "1      384   Grosse Wonderful   \n",
       "2        8    Airport Pollock   \n",
       "3       98  Bright Encounters   \n",
       "4        1   Academy Dinosaur   \n",
       "\n",
       "                                         description  release_year  \\\n",
       "0  A Fateful Reflection of a Moose And a Husband ...          2006   \n",
       "1  A Epic Drama of a Cat And a Explorer who must ...          2006   \n",
       "2  A Epic Tale of a Moose And a Girl who must Con...          2006   \n",
       "3  A Fateful Yarn of a Lumberjack And a Feminist ...          2006   \n",
       "4  A Epic Drama of a Feminist And a Mad Scientist...          2006   \n",
       "\n",
       "   language_id  rental_duration  rental_rate  length  replacement_cost rating  \\\n",
       "0            1                7         4.99     117             14.99  NC-17   \n",
       "1            1                5         4.99      49             19.99      R   \n",
       "2            1                6         4.99      54             15.99      R   \n",
       "3            1                4         4.99      73             12.99  PG-13   \n",
       "4            1                6         0.99      86             20.99     PG   \n",
       "\n",
       "               last_update                        special_features  \\\n",
       "0  2013-05-26 14:50:58.951                              {Trailers}   \n",
       "1  2013-05-26 14:50:58.951                   {\"Behind the Scenes\"}   \n",
       "2  2013-05-26 14:50:58.951                              {Trailers}   \n",
       "3  2013-05-26 14:50:58.951                              {Trailers}   \n",
       "4  2013-05-26 14:50:58.951  {\"Deleted Scenes\",\"Behind the Scenes\"}   \n",
       "\n",
       "                                            fulltext  \n",
       "0  'chamber':1 'fate':4 'husband':11 'italian':2 ...  \n",
       "1  'australia':18 'cat':8 'drama':5 'epic':4 'exp...  \n",
       "2  'airport':1 'ancient':18 'confront':14 'epic':...  \n",
       "3  'boat':20 'bright':1 'conquer':14 'encount':2 ...  \n",
       "4  'academi':1 'battl':15 'canadian':20 'dinosaur...  "
      ]
     },
     "execution_count": 198,
     "metadata": {},
     "output_type": "execute_result"
    }
   ],
   "source": [
    "film.head()"
   ]
  },
  {
   "cell_type": "code",
   "execution_count": 199,
   "id": "53672497-13c8-45da-8cf4-a47d7d6d4a8c",
   "metadata": {},
   "outputs": [
    {
     "name": "stdout",
     "output_type": "stream",
     "text": [
      "film_id               int64\n",
      "title                object\n",
      "description          object\n",
      "release_year          int64\n",
      "language_id           int64\n",
      "rental_duration       int64\n",
      "rental_rate         float64\n",
      "length                int64\n",
      "replacement_cost    float64\n",
      "rating               object\n",
      "last_update          object\n",
      "special_features     object\n",
      "fulltext             object\n",
      "dtype: object\n"
     ]
    }
   ],
   "source": [
    "# Visualizando o tipo das colunas\n",
    "print(film.dtypes)"
   ]
  },
  {
   "cell_type": "code",
   "execution_count": 200,
   "id": "56ac21f2-82a3-4dbb-9e6c-4e0c686b2df2",
   "metadata": {},
   "outputs": [],
   "source": [
    "# Alteração da coluna last_update:\n",
    "film['last_update'] = pd.to_datetime(film['last_update']) #Alterando para DateTime"
   ]
  },
  {
   "cell_type": "code",
   "execution_count": 201,
   "id": "c576a61d-ce4a-46ed-acff-0f75532d3418",
   "metadata": {},
   "outputs": [
    {
     "name": "stdout",
     "output_type": "stream",
     "text": [
      "film_id                      int64\n",
      "title                       object\n",
      "description                 object\n",
      "release_year                 int64\n",
      "language_id                  int64\n",
      "rental_duration              int64\n",
      "rental_rate                float64\n",
      "length                       int64\n",
      "replacement_cost           float64\n",
      "rating                      object\n",
      "last_update         datetime64[ns]\n",
      "special_features            object\n",
      "fulltext                    object\n",
      "dtype: object\n"
     ]
    }
   ],
   "source": [
    "# Visualizando o tipo das colunas, após alterações\n",
    "print(film.dtypes)"
   ]
  },
  {
   "cell_type": "markdown",
   "id": "15249d43-f22d-4873-aa56-49cfb303afa0",
   "metadata": {},
   "source": [
    "#### Análise exploratória - FILM_ACTOR"
   ]
  },
  {
   "cell_type": "code",
   "execution_count": 202,
   "id": "8a13739b-3f72-4818-ba9d-4e6c8b6b625a",
   "metadata": {},
   "outputs": [],
   "source": [
    "#Leitura do arquivo \n",
    "film_actor = pd.read_csv(\"film_actor.csv\")"
   ]
  },
  {
   "cell_type": "code",
   "execution_count": 203,
   "id": "1fdac031",
   "metadata": {},
   "outputs": [
    {
     "name": "stdout",
     "output_type": "stream",
     "text": [
      "Esse é o total de linhas e colunas:\n",
      "(5462, 3)\n"
     ]
    }
   ],
   "source": [
    "# Total de linhas e colunas\n",
    "total_linhas_colunas = film_actor.shape\n",
    "print(\"Esse é o total de linhas e colunas:\")\n",
    "print(total_linhas_colunas)"
   ]
  },
  {
   "cell_type": "code",
   "execution_count": 204,
   "id": "a1d3eb2c",
   "metadata": {},
   "outputs": [
    {
     "name": "stdout",
     "output_type": "stream",
     "text": [
      "Linhas duplicadas:\n",
      "Empty DataFrame\n",
      "Columns: [actor_id, film_id, last_update]\n",
      "Index: []\n"
     ]
    }
   ],
   "source": [
    "# Verificando se existem linhas duplicadas\n",
    "linhas_duplicadas = film_actor[film_actor.duplicated()]\n",
    "print(\"Linhas duplicadas:\")\n",
    "print(linhas_duplicadas)"
   ]
  },
  {
   "cell_type": "code",
   "execution_count": 205,
   "id": "954e3402",
   "metadata": {},
   "outputs": [
    {
     "name": "stdout",
     "output_type": "stream",
     "text": [
      "Quantidade de valores nulos (NaN) ou em branco em cada coluna:\n",
      "actor_id       0\n",
      "film_id        0\n",
      "last_update    0\n",
      "dtype: int64\n"
     ]
    }
   ],
   "source": [
    "# Verificando se há valores nulos (NaN) ou em branco em cada coluna\n",
    "valores_nulos = film_actor.isnull().sum()\n",
    "print(\"Quantidade de valores nulos (NaN) ou em branco em cada coluna:\")\n",
    "print(valores_nulos)"
   ]
  },
  {
   "cell_type": "code",
   "execution_count": 206,
   "id": "3f928fc7-7622-405e-a650-7478c6fd238f",
   "metadata": {},
   "outputs": [
    {
     "name": "stdout",
     "output_type": "stream",
     "text": [
      "actor_id       False\n",
      "film_id        False\n",
      "last_update    False\n",
      "dtype: bool\n"
     ]
    }
   ],
   "source": [
    "# Verificando se há COLUNAS em branco\n",
    "col_branco = film_actor.isna().any()\n",
    "\n",
    "print(col_branco)"
   ]
  },
  {
   "cell_type": "code",
   "execution_count": 207,
   "id": "85563098-7e75-46e4-bf11-fdfd0116f405",
   "metadata": {},
   "outputs": [
    {
     "data": {
      "text/html": [
       "<div>\n",
       "<style scoped>\n",
       "    .dataframe tbody tr th:only-of-type {\n",
       "        vertical-align: middle;\n",
       "    }\n",
       "\n",
       "    .dataframe tbody tr th {\n",
       "        vertical-align: top;\n",
       "    }\n",
       "\n",
       "    .dataframe thead th {\n",
       "        text-align: right;\n",
       "    }\n",
       "</style>\n",
       "<table border=\"1\" class=\"dataframe\">\n",
       "  <thead>\n",
       "    <tr style=\"text-align: right;\">\n",
       "      <th></th>\n",
       "      <th>actor_id</th>\n",
       "      <th>film_id</th>\n",
       "      <th>last_update</th>\n",
       "    </tr>\n",
       "  </thead>\n",
       "  <tbody>\n",
       "    <tr>\n",
       "      <th>0</th>\n",
       "      <td>1</td>\n",
       "      <td>1</td>\n",
       "      <td>2006-02-15 10:05:03.000</td>\n",
       "    </tr>\n",
       "    <tr>\n",
       "      <th>1</th>\n",
       "      <td>1</td>\n",
       "      <td>23</td>\n",
       "      <td>2006-02-15 10:05:03.000</td>\n",
       "    </tr>\n",
       "    <tr>\n",
       "      <th>2</th>\n",
       "      <td>1</td>\n",
       "      <td>25</td>\n",
       "      <td>2006-02-15 10:05:03.000</td>\n",
       "    </tr>\n",
       "    <tr>\n",
       "      <th>3</th>\n",
       "      <td>1</td>\n",
       "      <td>106</td>\n",
       "      <td>2006-02-15 10:05:03.000</td>\n",
       "    </tr>\n",
       "    <tr>\n",
       "      <th>4</th>\n",
       "      <td>1</td>\n",
       "      <td>140</td>\n",
       "      <td>2006-02-15 10:05:03.000</td>\n",
       "    </tr>\n",
       "  </tbody>\n",
       "</table>\n",
       "</div>"
      ],
      "text/plain": [
       "   actor_id  film_id              last_update\n",
       "0         1        1  2006-02-15 10:05:03.000\n",
       "1         1       23  2006-02-15 10:05:03.000\n",
       "2         1       25  2006-02-15 10:05:03.000\n",
       "3         1      106  2006-02-15 10:05:03.000\n",
       "4         1      140  2006-02-15 10:05:03.000"
      ]
     },
     "execution_count": 207,
     "metadata": {},
     "output_type": "execute_result"
    }
   ],
   "source": [
    "# Visualizando as 5 primeiras linhas \n",
    "film_actor.head()"
   ]
  },
  {
   "cell_type": "code",
   "execution_count": 208,
   "id": "d7f9eaf0-5aa7-4ff4-bb17-f06b349f8614",
   "metadata": {},
   "outputs": [
    {
     "name": "stdout",
     "output_type": "stream",
     "text": [
      "actor_id        int64\n",
      "film_id         int64\n",
      "last_update    object\n",
      "dtype: object\n"
     ]
    }
   ],
   "source": [
    "# Visualizando o tipo das colunas, após alterações\n",
    "print(film_actor.dtypes)"
   ]
  },
  {
   "cell_type": "code",
   "execution_count": 209,
   "id": "4fa28636-f071-4197-b3b7-66f6645c6fd7",
   "metadata": {},
   "outputs": [],
   "source": [
    "# Alteração da coluna last_update:\n",
    "film_actor['last_update'] = pd.to_datetime(film_actor['last_update']) #Alterando para DateTime"
   ]
  },
  {
   "cell_type": "code",
   "execution_count": 210,
   "id": "1bb5dce0-2121-4379-8c53-0d3abe8620b9",
   "metadata": {},
   "outputs": [
    {
     "data": {
      "text/html": [
       "<div>\n",
       "<style scoped>\n",
       "    .dataframe tbody tr th:only-of-type {\n",
       "        vertical-align: middle;\n",
       "    }\n",
       "\n",
       "    .dataframe tbody tr th {\n",
       "        vertical-align: top;\n",
       "    }\n",
       "\n",
       "    .dataframe thead th {\n",
       "        text-align: right;\n",
       "    }\n",
       "</style>\n",
       "<table border=\"1\" class=\"dataframe\">\n",
       "  <thead>\n",
       "    <tr style=\"text-align: right;\">\n",
       "      <th></th>\n",
       "      <th>actor_id</th>\n",
       "      <th>film_id</th>\n",
       "      <th>last_update</th>\n",
       "    </tr>\n",
       "  </thead>\n",
       "  <tbody>\n",
       "    <tr>\n",
       "      <th>0</th>\n",
       "      <td>1</td>\n",
       "      <td>1</td>\n",
       "      <td>2006-02-15 10:05:03</td>\n",
       "    </tr>\n",
       "    <tr>\n",
       "      <th>1</th>\n",
       "      <td>1</td>\n",
       "      <td>23</td>\n",
       "      <td>2006-02-15 10:05:03</td>\n",
       "    </tr>\n",
       "    <tr>\n",
       "      <th>2</th>\n",
       "      <td>1</td>\n",
       "      <td>25</td>\n",
       "      <td>2006-02-15 10:05:03</td>\n",
       "    </tr>\n",
       "    <tr>\n",
       "      <th>3</th>\n",
       "      <td>1</td>\n",
       "      <td>106</td>\n",
       "      <td>2006-02-15 10:05:03</td>\n",
       "    </tr>\n",
       "    <tr>\n",
       "      <th>4</th>\n",
       "      <td>1</td>\n",
       "      <td>140</td>\n",
       "      <td>2006-02-15 10:05:03</td>\n",
       "    </tr>\n",
       "  </tbody>\n",
       "</table>\n",
       "</div>"
      ],
      "text/plain": [
       "   actor_id  film_id         last_update\n",
       "0         1        1 2006-02-15 10:05:03\n",
       "1         1       23 2006-02-15 10:05:03\n",
       "2         1       25 2006-02-15 10:05:03\n",
       "3         1      106 2006-02-15 10:05:03\n",
       "4         1      140 2006-02-15 10:05:03"
      ]
     },
     "execution_count": 210,
     "metadata": {},
     "output_type": "execute_result"
    }
   ],
   "source": [
    "# Visualizando as 5 primeiras linhas, após alterações\n",
    "film_actor.head()"
   ]
  },
  {
   "cell_type": "code",
   "execution_count": 211,
   "id": "84e2b524-a510-4eda-9e50-43066d973ca3",
   "metadata": {},
   "outputs": [
    {
     "name": "stdout",
     "output_type": "stream",
     "text": [
      "actor_id                int64\n",
      "film_id                 int64\n",
      "last_update    datetime64[ns]\n",
      "dtype: object\n"
     ]
    }
   ],
   "source": [
    "# Visualizando o tipo das colunas, após alterações\n",
    "print(film_actor.dtypes)"
   ]
  },
  {
   "cell_type": "markdown",
   "id": "8e114240-76d1-46a9-a8bc-098c24ce8855",
   "metadata": {},
   "source": [
    "#### Análise exploratória - FILM_CATEGORY"
   ]
  },
  {
   "cell_type": "code",
   "execution_count": 212,
   "id": "0cefd521-35cf-46f1-8e23-e392cf0e2cc6",
   "metadata": {},
   "outputs": [],
   "source": [
    "#Leitura do arquivo \n",
    "film_category = pd.read_csv(\"film_category.csv\")"
   ]
  },
  {
   "cell_type": "code",
   "execution_count": 213,
   "id": "2cb3c362",
   "metadata": {},
   "outputs": [
    {
     "name": "stdout",
     "output_type": "stream",
     "text": [
      "Esse é o total de linhas e colunas:\n",
      "(1000, 3)\n"
     ]
    }
   ],
   "source": [
    "# Total de linhas e colunas\n",
    "total_linhas_colunas = film_category.shape\n",
    "print(\"Esse é o total de linhas e colunas:\")\n",
    "print(total_linhas_colunas)"
   ]
  },
  {
   "cell_type": "code",
   "execution_count": 214,
   "id": "1d3eedd2",
   "metadata": {},
   "outputs": [
    {
     "name": "stdout",
     "output_type": "stream",
     "text": [
      "Linhas duplicadas:\n",
      "Empty DataFrame\n",
      "Columns: [film_id, category_id, last_update]\n",
      "Index: []\n"
     ]
    }
   ],
   "source": [
    "# Verificando se existem linhas duplicadas\n",
    "linhas_duplicadas = film_category[film_category.duplicated()]\n",
    "print(\"Linhas duplicadas:\")\n",
    "print(linhas_duplicadas)"
   ]
  },
  {
   "cell_type": "code",
   "execution_count": 215,
   "id": "26dca598",
   "metadata": {},
   "outputs": [
    {
     "name": "stdout",
     "output_type": "stream",
     "text": [
      "Quantidade de valores nulos (NaN) ou em branco em cada coluna:\n",
      "film_id        0\n",
      "category_id    0\n",
      "last_update    0\n",
      "dtype: int64\n"
     ]
    }
   ],
   "source": [
    "# Verificando se há valores nulos (NaN) ou em branco em cada coluna\n",
    "valores_nulos  = film_category.isnull().sum()\n",
    "print(\"Quantidade de valores nulos (NaN) ou em branco em cada coluna:\")\n",
    "print(valores_nulos )"
   ]
  },
  {
   "cell_type": "code",
   "execution_count": 216,
   "id": "94f19a2f-a39d-41c1-9a6c-783b5f781671",
   "metadata": {},
   "outputs": [
    {
     "data": {
      "text/html": [
       "<div>\n",
       "<style scoped>\n",
       "    .dataframe tbody tr th:only-of-type {\n",
       "        vertical-align: middle;\n",
       "    }\n",
       "\n",
       "    .dataframe tbody tr th {\n",
       "        vertical-align: top;\n",
       "    }\n",
       "\n",
       "    .dataframe thead th {\n",
       "        text-align: right;\n",
       "    }\n",
       "</style>\n",
       "<table border=\"1\" class=\"dataframe\">\n",
       "  <thead>\n",
       "    <tr style=\"text-align: right;\">\n",
       "      <th></th>\n",
       "      <th>film_id</th>\n",
       "      <th>category_id</th>\n",
       "      <th>last_update</th>\n",
       "    </tr>\n",
       "  </thead>\n",
       "  <tbody>\n",
       "    <tr>\n",
       "      <th>0</th>\n",
       "      <td>1</td>\n",
       "      <td>6</td>\n",
       "      <td>2006-02-15 10:07:09.000</td>\n",
       "    </tr>\n",
       "    <tr>\n",
       "      <th>1</th>\n",
       "      <td>2</td>\n",
       "      <td>11</td>\n",
       "      <td>2006-02-15 10:07:09.000</td>\n",
       "    </tr>\n",
       "    <tr>\n",
       "      <th>2</th>\n",
       "      <td>3</td>\n",
       "      <td>6</td>\n",
       "      <td>2006-02-15 10:07:09.000</td>\n",
       "    </tr>\n",
       "    <tr>\n",
       "      <th>3</th>\n",
       "      <td>4</td>\n",
       "      <td>11</td>\n",
       "      <td>2006-02-15 10:07:09.000</td>\n",
       "    </tr>\n",
       "    <tr>\n",
       "      <th>4</th>\n",
       "      <td>5</td>\n",
       "      <td>8</td>\n",
       "      <td>2006-02-15 10:07:09.000</td>\n",
       "    </tr>\n",
       "  </tbody>\n",
       "</table>\n",
       "</div>"
      ],
      "text/plain": [
       "   film_id  category_id              last_update\n",
       "0        1            6  2006-02-15 10:07:09.000\n",
       "1        2           11  2006-02-15 10:07:09.000\n",
       "2        3            6  2006-02-15 10:07:09.000\n",
       "3        4           11  2006-02-15 10:07:09.000\n",
       "4        5            8  2006-02-15 10:07:09.000"
      ]
     },
     "execution_count": 216,
     "metadata": {},
     "output_type": "execute_result"
    }
   ],
   "source": [
    "# Visualizando as 5 primeiras linhas\n",
    "film_category.head()"
   ]
  },
  {
   "cell_type": "code",
   "execution_count": 217,
   "id": "0c7c3d1e-ecf3-400c-83a9-bef855718dad",
   "metadata": {},
   "outputs": [
    {
     "name": "stdout",
     "output_type": "stream",
     "text": [
      "film_id         int64\n",
      "category_id     int64\n",
      "last_update    object\n",
      "dtype: object\n"
     ]
    }
   ],
   "source": [
    "# Visualizando o tipo das colunas\n",
    "print(film_category.dtypes)"
   ]
  },
  {
   "cell_type": "code",
   "execution_count": 218,
   "id": "42f74920-e938-46b5-838d-c0a0308c7dec",
   "metadata": {},
   "outputs": [],
   "source": [
    "# Alteração da coluna last_update:\n",
    "film_category['last_update'] = pd.to_datetime(film_category['last_update']) #Alterando para DateTime"
   ]
  },
  {
   "cell_type": "code",
   "execution_count": 219,
   "id": "b34c7016-bf88-4e08-b188-18087fc50724",
   "metadata": {},
   "outputs": [
    {
     "name": "stdout",
     "output_type": "stream",
     "text": [
      "film_id                 int64\n",
      "category_id             int64\n",
      "last_update    datetime64[ns]\n",
      "dtype: object\n"
     ]
    }
   ],
   "source": [
    "# Visualizando o tipo das colunas, após alterações\n",
    "print(film_category.dtypes)"
   ]
  },
  {
   "cell_type": "markdown",
   "id": "52218d7a-3c14-47e8-83c8-8d312bf60d2d",
   "metadata": {},
   "source": [
    "#### Análise exploratória - INVENTORY"
   ]
  },
  {
   "cell_type": "code",
   "execution_count": 220,
   "id": "6a09b5d2-84e3-4cb8-8416-a67b536c5adb",
   "metadata": {},
   "outputs": [],
   "source": [
    "#Leitura do arquivo \n",
    "inventory = pd.read_csv(\"inventory.csv\")"
   ]
  },
  {
   "cell_type": "code",
   "execution_count": 221,
   "id": "2a795b21",
   "metadata": {},
   "outputs": [
    {
     "name": "stdout",
     "output_type": "stream",
     "text": [
      "Esse é o total de linhas e colunas:\n",
      "(4581, 4)\n"
     ]
    }
   ],
   "source": [
    "# Total de linhas e colunas\n",
    "total_linhas_colunas = inventory.shape\n",
    "print(\"Esse é o total de linhas e colunas:\")\n",
    "print(total_linhas_colunas)"
   ]
  },
  {
   "cell_type": "code",
   "execution_count": 222,
   "id": "797ed5bc",
   "metadata": {},
   "outputs": [
    {
     "name": "stdout",
     "output_type": "stream",
     "text": [
      "Linhas duplicadas:\n",
      "Empty DataFrame\n",
      "Columns: [inventory_id, film_id, store_id, last_update]\n",
      "Index: []\n"
     ]
    }
   ],
   "source": [
    "# Verificando se existem linhas duplicadas\n",
    "linhas_duplicadas = inventory[inventory.duplicated()]\n",
    "print(\"Linhas duplicadas:\")\n",
    "print(linhas_duplicadas)"
   ]
  },
  {
   "cell_type": "code",
   "execution_count": 223,
   "id": "64baa153",
   "metadata": {},
   "outputs": [
    {
     "name": "stdout",
     "output_type": "stream",
     "text": [
      "Quantidade de valores nulos (NaN) ou em branco em cada coluna:\n",
      "inventory_id    0\n",
      "film_id         0\n",
      "store_id        0\n",
      "last_update     0\n",
      "dtype: int64\n"
     ]
    }
   ],
   "source": [
    "# Verificando se há valores nulos (NaN) ou em branco em cada coluna\n",
    "null_counts = inventory.isnull().sum()\n",
    "print(\"Quantidade de valores nulos (NaN) ou em branco em cada coluna:\")\n",
    "print(null_counts)"
   ]
  },
  {
   "cell_type": "code",
   "execution_count": 224,
   "id": "69e3f4dd-77f0-4d7f-a475-84849b25ac3f",
   "metadata": {},
   "outputs": [
    {
     "data": {
      "text/html": [
       "<div>\n",
       "<style scoped>\n",
       "    .dataframe tbody tr th:only-of-type {\n",
       "        vertical-align: middle;\n",
       "    }\n",
       "\n",
       "    .dataframe tbody tr th {\n",
       "        vertical-align: top;\n",
       "    }\n",
       "\n",
       "    .dataframe thead th {\n",
       "        text-align: right;\n",
       "    }\n",
       "</style>\n",
       "<table border=\"1\" class=\"dataframe\">\n",
       "  <thead>\n",
       "    <tr style=\"text-align: right;\">\n",
       "      <th></th>\n",
       "      <th>inventory_id</th>\n",
       "      <th>film_id</th>\n",
       "      <th>store_id</th>\n",
       "      <th>last_update</th>\n",
       "    </tr>\n",
       "  </thead>\n",
       "  <tbody>\n",
       "    <tr>\n",
       "      <th>0</th>\n",
       "      <td>1</td>\n",
       "      <td>1</td>\n",
       "      <td>1</td>\n",
       "      <td>2006-02-15 10:09:17.000</td>\n",
       "    </tr>\n",
       "    <tr>\n",
       "      <th>1</th>\n",
       "      <td>2</td>\n",
       "      <td>1</td>\n",
       "      <td>1</td>\n",
       "      <td>2006-02-15 10:09:17.000</td>\n",
       "    </tr>\n",
       "    <tr>\n",
       "      <th>2</th>\n",
       "      <td>3</td>\n",
       "      <td>1</td>\n",
       "      <td>1</td>\n",
       "      <td>2006-02-15 10:09:17.000</td>\n",
       "    </tr>\n",
       "    <tr>\n",
       "      <th>3</th>\n",
       "      <td>4</td>\n",
       "      <td>1</td>\n",
       "      <td>1</td>\n",
       "      <td>2006-02-15 10:09:17.000</td>\n",
       "    </tr>\n",
       "    <tr>\n",
       "      <th>4</th>\n",
       "      <td>5</td>\n",
       "      <td>1</td>\n",
       "      <td>2</td>\n",
       "      <td>2006-02-15 10:09:17.000</td>\n",
       "    </tr>\n",
       "  </tbody>\n",
       "</table>\n",
       "</div>"
      ],
      "text/plain": [
       "   inventory_id  film_id  store_id              last_update\n",
       "0             1        1         1  2006-02-15 10:09:17.000\n",
       "1             2        1         1  2006-02-15 10:09:17.000\n",
       "2             3        1         1  2006-02-15 10:09:17.000\n",
       "3             4        1         1  2006-02-15 10:09:17.000\n",
       "4             5        1         2  2006-02-15 10:09:17.000"
      ]
     },
     "execution_count": 224,
     "metadata": {},
     "output_type": "execute_result"
    }
   ],
   "source": [
    "# Visualizando as 5 primeiras linhas\n",
    "inventory.head()"
   ]
  },
  {
   "cell_type": "code",
   "execution_count": 225,
   "id": "ae188d07-7cd6-4bd7-9552-7e41d85ba3c3",
   "metadata": {},
   "outputs": [
    {
     "name": "stdout",
     "output_type": "stream",
     "text": [
      "inventory_id     int64\n",
      "film_id          int64\n",
      "store_id         int64\n",
      "last_update     object\n",
      "dtype: object\n"
     ]
    }
   ],
   "source": [
    "# Visualizando o tipo das colunas\n",
    "print(inventory.dtypes)"
   ]
  },
  {
   "cell_type": "code",
   "execution_count": 226,
   "id": "c132b59f-3c20-41f3-8539-efba279e175e",
   "metadata": {},
   "outputs": [],
   "source": [
    "# Alteração da coluna last_update:\n",
    "inventory['last_update'] = pd.to_datetime(inventory['last_update']) #Alterando para DateTime"
   ]
  },
  {
   "cell_type": "code",
   "execution_count": 227,
   "id": "0dc91c0c-cb72-45bf-82ee-ac446b0bf6a1",
   "metadata": {},
   "outputs": [
    {
     "name": "stdout",
     "output_type": "stream",
     "text": [
      "inventory_id             int64\n",
      "film_id                  int64\n",
      "store_id                 int64\n",
      "last_update     datetime64[ns]\n",
      "dtype: object\n"
     ]
    }
   ],
   "source": [
    "# Visualizando o tipo das colunas, após alterações\n",
    "print(inventory.dtypes)"
   ]
  },
  {
   "cell_type": "markdown",
   "id": "eefb91e7-680d-4753-80ed-aa57da1d5e06",
   "metadata": {},
   "source": [
    "#### Análise exploratória - PAYMENT"
   ]
  },
  {
   "cell_type": "code",
   "execution_count": 228,
   "id": "d2cac923-7965-4488-b1ff-5a13feb008bb",
   "metadata": {},
   "outputs": [],
   "source": [
    "#Leitura do arquivo \n",
    "payment = pd.read_csv(\"payment.csv\")"
   ]
  },
  {
   "cell_type": "code",
   "execution_count": 229,
   "id": "7f439f97",
   "metadata": {},
   "outputs": [
    {
     "name": "stdout",
     "output_type": "stream",
     "text": [
      "Esse é o total de linhas e colunas:\n",
      "(14596, 6)\n"
     ]
    }
   ],
   "source": [
    "# Total de linhas e colunas\n",
    "total_linhas_colunas = payment.shape\n",
    "print(\"Esse é o total de linhas e colunas:\")\n",
    "print(total_linhas_colunas)"
   ]
  },
  {
   "cell_type": "code",
   "execution_count": 230,
   "id": "ea97b530",
   "metadata": {},
   "outputs": [
    {
     "name": "stdout",
     "output_type": "stream",
     "text": [
      "Linhas duplicadas:\n",
      "Empty DataFrame\n",
      "Columns: [payment_id, customer_id, staff_id, rental_id, amount, payment_date]\n",
      "Index: []\n"
     ]
    }
   ],
   "source": [
    "# Verificando se existem linhas duplicadas\n",
    "linhas_duplicadas = payment[payment.duplicated()]\n",
    "print(\"Linhas duplicadas:\")\n",
    "print(linhas_duplicadas)"
   ]
  },
  {
   "cell_type": "code",
   "execution_count": 231,
   "id": "5e79d6df",
   "metadata": {},
   "outputs": [
    {
     "name": "stdout",
     "output_type": "stream",
     "text": [
      "Quantidade de valores nulos (NaN) ou em branco em cada coluna:\n",
      "payment_id      0\n",
      "customer_id     0\n",
      "staff_id        0\n",
      "rental_id       0\n",
      "amount          0\n",
      "payment_date    0\n",
      "dtype: int64\n"
     ]
    }
   ],
   "source": [
    "# Verificando se há valores nulos (NaN) ou em branco em cada coluna\n",
    "valores_nulos  = payment.isnull().sum()\n",
    "print(\"Quantidade de valores nulos (NaN) ou em branco em cada coluna:\")\n",
    "print(valores_nulos )"
   ]
  },
  {
   "cell_type": "code",
   "execution_count": 232,
   "id": "2c5e8eed-317f-4258-8b1f-eac80d5296b5",
   "metadata": {},
   "outputs": [
    {
     "data": {
      "text/html": [
       "<div>\n",
       "<style scoped>\n",
       "    .dataframe tbody tr th:only-of-type {\n",
       "        vertical-align: middle;\n",
       "    }\n",
       "\n",
       "    .dataframe tbody tr th {\n",
       "        vertical-align: top;\n",
       "    }\n",
       "\n",
       "    .dataframe thead th {\n",
       "        text-align: right;\n",
       "    }\n",
       "</style>\n",
       "<table border=\"1\" class=\"dataframe\">\n",
       "  <thead>\n",
       "    <tr style=\"text-align: right;\">\n",
       "      <th></th>\n",
       "      <th>payment_id</th>\n",
       "      <th>customer_id</th>\n",
       "      <th>staff_id</th>\n",
       "      <th>rental_id</th>\n",
       "      <th>amount</th>\n",
       "      <th>payment_date</th>\n",
       "    </tr>\n",
       "  </thead>\n",
       "  <tbody>\n",
       "    <tr>\n",
       "      <th>0</th>\n",
       "      <td>17503</td>\n",
       "      <td>341</td>\n",
       "      <td>2</td>\n",
       "      <td>1520</td>\n",
       "      <td>7.99</td>\n",
       "      <td>2007-02-15 22:25:46.996</td>\n",
       "    </tr>\n",
       "    <tr>\n",
       "      <th>1</th>\n",
       "      <td>17504</td>\n",
       "      <td>341</td>\n",
       "      <td>1</td>\n",
       "      <td>1778</td>\n",
       "      <td>1.99</td>\n",
       "      <td>2007-02-16 17:23:14.996</td>\n",
       "    </tr>\n",
       "    <tr>\n",
       "      <th>2</th>\n",
       "      <td>17505</td>\n",
       "      <td>341</td>\n",
       "      <td>1</td>\n",
       "      <td>1849</td>\n",
       "      <td>7.99</td>\n",
       "      <td>2007-02-16 22:41:45.996</td>\n",
       "    </tr>\n",
       "    <tr>\n",
       "      <th>3</th>\n",
       "      <td>17506</td>\n",
       "      <td>341</td>\n",
       "      <td>2</td>\n",
       "      <td>2829</td>\n",
       "      <td>2.99</td>\n",
       "      <td>2007-02-19 19:39:56.996</td>\n",
       "    </tr>\n",
       "    <tr>\n",
       "      <th>4</th>\n",
       "      <td>17507</td>\n",
       "      <td>341</td>\n",
       "      <td>2</td>\n",
       "      <td>3130</td>\n",
       "      <td>7.99</td>\n",
       "      <td>2007-02-20 17:31:48.996</td>\n",
       "    </tr>\n",
       "  </tbody>\n",
       "</table>\n",
       "</div>"
      ],
      "text/plain": [
       "   payment_id  customer_id  staff_id  rental_id  amount  \\\n",
       "0       17503          341         2       1520    7.99   \n",
       "1       17504          341         1       1778    1.99   \n",
       "2       17505          341         1       1849    7.99   \n",
       "3       17506          341         2       2829    2.99   \n",
       "4       17507          341         2       3130    7.99   \n",
       "\n",
       "              payment_date  \n",
       "0  2007-02-15 22:25:46.996  \n",
       "1  2007-02-16 17:23:14.996  \n",
       "2  2007-02-16 22:41:45.996  \n",
       "3  2007-02-19 19:39:56.996  \n",
       "4  2007-02-20 17:31:48.996  "
      ]
     },
     "execution_count": 232,
     "metadata": {},
     "output_type": "execute_result"
    }
   ],
   "source": [
    "#Visualização das 5 primeiras linhas\n",
    "payment.head()"
   ]
  },
  {
   "cell_type": "code",
   "execution_count": 233,
   "id": "b26c2c92",
   "metadata": {},
   "outputs": [
    {
     "data": {
      "text/plain": [
       "4.200605645382297"
      ]
     },
     "execution_count": 233,
     "metadata": {},
     "output_type": "execute_result"
    }
   ],
   "source": [
    "# Exibindo o valor médio de pagamento\n",
    "payment[\"amount\"].mean()"
   ]
  },
  {
   "cell_type": "code",
   "execution_count": 234,
   "id": "df385952",
   "metadata": {},
   "outputs": [
    {
     "data": {
      "text/plain": [
       "11.99"
      ]
     },
     "execution_count": 234,
     "metadata": {},
     "output_type": "execute_result"
    }
   ],
   "source": [
    "#Retornando o maior aluguel\n",
    "payment[\"amount\"].max()"
   ]
  },
  {
   "cell_type": "code",
   "execution_count": 235,
   "id": "c0a73799",
   "metadata": {},
   "outputs": [
    {
     "data": {
      "text/plain": [
       "0.0"
      ]
     },
     "execution_count": 235,
     "metadata": {},
     "output_type": "execute_result"
    }
   ],
   "source": [
    "#Retornando o menor aluguel\n",
    "payment[\"amount\"].min()"
   ]
  },
  {
   "cell_type": "code",
   "execution_count": 236,
   "id": "46b5e54e",
   "metadata": {},
   "outputs": [
    {
     "data": {
      "text/html": [
       "<div>\n",
       "<style scoped>\n",
       "    .dataframe tbody tr th:only-of-type {\n",
       "        vertical-align: middle;\n",
       "    }\n",
       "\n",
       "    .dataframe tbody tr th {\n",
       "        vertical-align: top;\n",
       "    }\n",
       "\n",
       "    .dataframe thead th {\n",
       "        text-align: right;\n",
       "    }\n",
       "</style>\n",
       "<table border=\"1\" class=\"dataframe\">\n",
       "  <thead>\n",
       "    <tr style=\"text-align: right;\">\n",
       "      <th></th>\n",
       "      <th>payment_id</th>\n",
       "      <th>customer_id</th>\n",
       "      <th>staff_id</th>\n",
       "      <th>rental_id</th>\n",
       "      <th>amount</th>\n",
       "      <th>payment_date</th>\n",
       "    </tr>\n",
       "  </thead>\n",
       "  <tbody>\n",
       "    <tr>\n",
       "      <th>2900</th>\n",
       "      <td>20403</td>\n",
       "      <td>362</td>\n",
       "      <td>1</td>\n",
       "      <td>14759</td>\n",
       "      <td>11.99</td>\n",
       "      <td>2007-03-21 21:57:24.996</td>\n",
       "    </tr>\n",
       "    <tr>\n",
       "      <th>5147</th>\n",
       "      <td>22650</td>\n",
       "      <td>204</td>\n",
       "      <td>2</td>\n",
       "      <td>15415</td>\n",
       "      <td>11.99</td>\n",
       "      <td>2007-03-22 22:17:22.996</td>\n",
       "    </tr>\n",
       "    <tr>\n",
       "      <th>6254</th>\n",
       "      <td>23757</td>\n",
       "      <td>116</td>\n",
       "      <td>2</td>\n",
       "      <td>14763</td>\n",
       "      <td>11.99</td>\n",
       "      <td>2007-03-21 22:02:26.996</td>\n",
       "    </tr>\n",
       "  </tbody>\n",
       "</table>\n",
       "</div>"
      ],
      "text/plain": [
       "      payment_id  customer_id  staff_id  rental_id  amount  \\\n",
       "2900       20403          362         1      14759   11.99   \n",
       "5147       22650          204         2      15415   11.99   \n",
       "6254       23757          116         2      14763   11.99   \n",
       "\n",
       "                 payment_date  \n",
       "2900  2007-03-21 21:57:24.996  \n",
       "5147  2007-03-22 22:17:22.996  \n",
       "6254  2007-03-21 22:02:26.996  "
      ]
     },
     "execution_count": 236,
     "metadata": {},
     "output_type": "execute_result"
    }
   ],
   "source": [
    "# Exibindo os 3 maiores alugueis\n",
    "payment.nlargest(3,\"amount\")"
   ]
  },
  {
   "cell_type": "code",
   "execution_count": 237,
   "id": "14a30948",
   "metadata": {},
   "outputs": [
    {
     "data": {
      "text/html": [
       "<div>\n",
       "<style scoped>\n",
       "    .dataframe tbody tr th:only-of-type {\n",
       "        vertical-align: middle;\n",
       "    }\n",
       "\n",
       "    .dataframe tbody tr th {\n",
       "        vertical-align: top;\n",
       "    }\n",
       "\n",
       "    .dataframe thead th {\n",
       "        text-align: right;\n",
       "    }\n",
       "</style>\n",
       "<table border=\"1\" class=\"dataframe\">\n",
       "  <thead>\n",
       "    <tr style=\"text-align: right;\">\n",
       "      <th></th>\n",
       "      <th>payment_id</th>\n",
       "      <th>customer_id</th>\n",
       "      <th>staff_id</th>\n",
       "      <th>rental_id</th>\n",
       "      <th>amount</th>\n",
       "      <th>payment_date</th>\n",
       "    </tr>\n",
       "  </thead>\n",
       "  <tbody>\n",
       "    <tr>\n",
       "      <th>14415</th>\n",
       "      <td>31918</td>\n",
       "      <td>267</td>\n",
       "      <td>2</td>\n",
       "      <td>13713</td>\n",
       "      <td>0.0</td>\n",
       "      <td>2007-05-14 13:44:29.996</td>\n",
       "    </tr>\n",
       "    <tr>\n",
       "      <th>14417</th>\n",
       "      <td>31920</td>\n",
       "      <td>269</td>\n",
       "      <td>2</td>\n",
       "      <td>12610</td>\n",
       "      <td>0.0</td>\n",
       "      <td>2007-05-14 13:44:29.996</td>\n",
       "    </tr>\n",
       "    <tr>\n",
       "      <th>14422</th>\n",
       "      <td>31925</td>\n",
       "      <td>284</td>\n",
       "      <td>2</td>\n",
       "      <td>12959</td>\n",
       "      <td>0.0</td>\n",
       "      <td>2007-05-14 13:44:29.996</td>\n",
       "    </tr>\n",
       "  </tbody>\n",
       "</table>\n",
       "</div>"
      ],
      "text/plain": [
       "       payment_id  customer_id  staff_id  rental_id  amount  \\\n",
       "14415       31918          267         2      13713     0.0   \n",
       "14417       31920          269         2      12610     0.0   \n",
       "14422       31925          284         2      12959     0.0   \n",
       "\n",
       "                  payment_date  \n",
       "14415  2007-05-14 13:44:29.996  \n",
       "14417  2007-05-14 13:44:29.996  \n",
       "14422  2007-05-14 13:44:29.996  "
      ]
     },
     "execution_count": 237,
     "metadata": {},
     "output_type": "execute_result"
    }
   ],
   "source": [
    "#Exibindo os 3 menos aluguies\n",
    "payment.nsmallest(3, \"amount\")"
   ]
  },
  {
   "cell_type": "code",
   "execution_count": 238,
   "id": "dee8afec-6e5d-474d-8ed5-73d2fd0acb6d",
   "metadata": {},
   "outputs": [
    {
     "name": "stdout",
     "output_type": "stream",
     "text": [
      "payment_id        int64\n",
      "customer_id       int64\n",
      "staff_id          int64\n",
      "rental_id         int64\n",
      "amount          float64\n",
      "payment_date     object\n",
      "dtype: object\n"
     ]
    }
   ],
   "source": [
    "# Visualizando o tipo das colunas\n",
    "print(payment.dtypes)"
   ]
  },
  {
   "cell_type": "code",
   "execution_count": 239,
   "id": "8f9b7094-f5f2-42cf-83c2-763b969095c7",
   "metadata": {},
   "outputs": [],
   "source": [
    "# Alteração da coluna payment_date:\n",
    "payment['payment_date'] = pd.to_datetime(payment['payment_date']) #Alterando para DateTime"
   ]
  },
  {
   "cell_type": "code",
   "execution_count": 240,
   "id": "6b7084cd-8465-4bf9-83b6-590cccc6c794",
   "metadata": {},
   "outputs": [
    {
     "name": "stdout",
     "output_type": "stream",
     "text": [
      "payment_id               int64\n",
      "customer_id              int64\n",
      "staff_id                 int64\n",
      "rental_id                int64\n",
      "amount                 float64\n",
      "payment_date    datetime64[ns]\n",
      "dtype: object\n"
     ]
    }
   ],
   "source": [
    "# Visualizando o tipo das colunas, após alterações\n",
    "print(payment.dtypes)"
   ]
  },
  {
   "cell_type": "markdown",
   "id": "835c8cc6-9307-42da-b5d4-914c99a7ba21",
   "metadata": {},
   "source": [
    "#### Análise exploratória- RENTAL"
   ]
  },
  {
   "cell_type": "code",
   "execution_count": 241,
   "id": "faca711d-551f-469f-a05e-08d62722ce74",
   "metadata": {},
   "outputs": [],
   "source": [
    "rental = pd.read_csv(\"rental.csv\")"
   ]
  },
  {
   "cell_type": "code",
   "execution_count": 242,
   "id": "e94229a3",
   "metadata": {},
   "outputs": [
    {
     "name": "stdout",
     "output_type": "stream",
     "text": [
      "Esse é o total de linhas e colunas:\n",
      "(11086, 7)\n"
     ]
    }
   ],
   "source": [
    "# Total de linhas e colunas\n",
    "total_linhas_colunas = rental.shape\n",
    "print(\"Esse é o total de linhas e colunas:\")\n",
    "print(total_linhas_colunas)"
   ]
  },
  {
   "cell_type": "code",
   "execution_count": 243,
   "id": "4e166498",
   "metadata": {},
   "outputs": [
    {
     "name": "stdout",
     "output_type": "stream",
     "text": [
      "Linhas duplicadas:\n",
      "Empty DataFrame\n",
      "Columns: [rental_id, rental_date, inventory_id, customer_id, return_date, staff_id, last_update]\n",
      "Index: []\n"
     ]
    }
   ],
   "source": [
    "# Verificando se existem linhas duplicadas\n",
    "linhas_duplicadas = rental[rental.duplicated()]\n",
    "print(\"Linhas duplicadas:\")\n",
    "print(linhas_duplicadas)"
   ]
  },
  {
   "cell_type": "code",
   "execution_count": 244,
   "id": "9efeabaf",
   "metadata": {},
   "outputs": [
    {
     "name": "stdout",
     "output_type": "stream",
     "text": [
      "Quantidade de valores nulos (NaN) ou em branco em cada coluna:\n",
      "rental_id       0\n",
      "rental_date     0\n",
      "inventory_id    0\n",
      "customer_id     0\n",
      "return_date     0\n",
      "staff_id        0\n",
      "last_update     1\n",
      "dtype: int64\n"
     ]
    }
   ],
   "source": [
    "# Verificando se há valores nulos (NaN) ou em branco em cada coluna\n",
    "valores_nulos  = rental.isnull().sum()\n",
    "print(\"Quantidade de valores nulos (NaN) ou em branco em cada coluna:\")\n",
    "print(valores_nulos )"
   ]
  },
  {
   "cell_type": "markdown",
   "id": "aa99887b",
   "metadata": {},
   "source": [
    "Nota: apesar de conter uma informação nula, vou deixar assim para que possa analisar e tratar no próximo passo."
   ]
  },
  {
   "cell_type": "code",
   "execution_count": 245,
   "id": "768d63ed",
   "metadata": {},
   "outputs": [
    {
     "name": "stdout",
     "output_type": "stream",
     "text": [
      "Quantidade de valores nulos (NaN) ou em branco em cada coluna:\n",
      "rental_id       0\n",
      "rental_date     0\n",
      "inventory_id    0\n",
      "customer_id     0\n",
      "return_date     0\n",
      "staff_id        0\n",
      "last_update     1\n",
      "dtype: int64\n"
     ]
    }
   ],
   "source": [
    "# Verificando se há valores nulos (NaN) ou em branco, após a alteração\n",
    "valores_nulos  = rental.isnull().sum()\n",
    "print(\"Quantidade de valores nulos (NaN) ou em branco em cada coluna:\")\n",
    "print(valores_nulos )"
   ]
  },
  {
   "cell_type": "code",
   "execution_count": 246,
   "id": "b7aa67cd-2872-4356-8db1-35c5b5847cbe",
   "metadata": {},
   "outputs": [
    {
     "data": {
      "text/html": [
       "<div>\n",
       "<style scoped>\n",
       "    .dataframe tbody tr th:only-of-type {\n",
       "        vertical-align: middle;\n",
       "    }\n",
       "\n",
       "    .dataframe tbody tr th {\n",
       "        vertical-align: top;\n",
       "    }\n",
       "\n",
       "    .dataframe thead th {\n",
       "        text-align: right;\n",
       "    }\n",
       "</style>\n",
       "<table border=\"1\" class=\"dataframe\">\n",
       "  <thead>\n",
       "    <tr style=\"text-align: right;\">\n",
       "      <th></th>\n",
       "      <th>rental_id</th>\n",
       "      <th>rental_date</th>\n",
       "      <th>inventory_id</th>\n",
       "      <th>customer_id</th>\n",
       "      <th>return_date</th>\n",
       "      <th>staff_id</th>\n",
       "      <th>last_update</th>\n",
       "    </tr>\n",
       "  </thead>\n",
       "  <tbody>\n",
       "    <tr>\n",
       "      <th>0</th>\n",
       "      <td>2</td>\n",
       "      <td>2005-05-24 22:54:33.000</td>\n",
       "      <td>1525</td>\n",
       "      <td>459</td>\n",
       "      <td>2005-05-28 19:40:33.000</td>\n",
       "      <td>1</td>\n",
       "      <td>2006-02-16 02:30:53.000</td>\n",
       "    </tr>\n",
       "    <tr>\n",
       "      <th>1</th>\n",
       "      <td>3</td>\n",
       "      <td>2005-05-24 23:03:39.000</td>\n",
       "      <td>1711</td>\n",
       "      <td>408</td>\n",
       "      <td>2005-06-01 22:12:39.000</td>\n",
       "      <td>1</td>\n",
       "      <td>2006-02-16 02:30:53.000</td>\n",
       "    </tr>\n",
       "    <tr>\n",
       "      <th>2</th>\n",
       "      <td>4</td>\n",
       "      <td>2005-05-24 23:04:41.000</td>\n",
       "      <td>2452</td>\n",
       "      <td>333</td>\n",
       "      <td>2005-06-03 01:43:41.000</td>\n",
       "      <td>2</td>\n",
       "      <td>2006-02-16 02:30:53.000</td>\n",
       "    </tr>\n",
       "    <tr>\n",
       "      <th>3</th>\n",
       "      <td>5</td>\n",
       "      <td>2005-05-24 23:05:21.000</td>\n",
       "      <td>2079</td>\n",
       "      <td>222</td>\n",
       "      <td>2005-06-02 04:33:21.000</td>\n",
       "      <td>1</td>\n",
       "      <td>2006-02-16 02:30:53.000</td>\n",
       "    </tr>\n",
       "    <tr>\n",
       "      <th>4</th>\n",
       "      <td>6</td>\n",
       "      <td>2005-05-24 23:08:07.000</td>\n",
       "      <td>2792</td>\n",
       "      <td>549</td>\n",
       "      <td>2005-05-27 01:32:07.000</td>\n",
       "      <td>1</td>\n",
       "      <td>2006-02-16 02:30:53.000</td>\n",
       "    </tr>\n",
       "  </tbody>\n",
       "</table>\n",
       "</div>"
      ],
      "text/plain": [
       "   rental_id              rental_date  inventory_id  customer_id  \\\n",
       "0          2  2005-05-24 22:54:33.000          1525          459   \n",
       "1          3  2005-05-24 23:03:39.000          1711          408   \n",
       "2          4  2005-05-24 23:04:41.000          2452          333   \n",
       "3          5  2005-05-24 23:05:21.000          2079          222   \n",
       "4          6  2005-05-24 23:08:07.000          2792          549   \n",
       "\n",
       "               return_date  staff_id              last_update  \n",
       "0  2005-05-28 19:40:33.000         1  2006-02-16 02:30:53.000  \n",
       "1  2005-06-01 22:12:39.000         1  2006-02-16 02:30:53.000  \n",
       "2  2005-06-03 01:43:41.000         2  2006-02-16 02:30:53.000  \n",
       "3  2005-06-02 04:33:21.000         1  2006-02-16 02:30:53.000  \n",
       "4  2005-05-27 01:32:07.000         1  2006-02-16 02:30:53.000  "
      ]
     },
     "execution_count": 246,
     "metadata": {},
     "output_type": "execute_result"
    }
   ],
   "source": [
    "# Visualizando as 5 primeiras linhas\n",
    "rental.head()"
   ]
  },
  {
   "cell_type": "code",
   "execution_count": 247,
   "id": "ee5e8f4e-e0c6-45c0-bd6b-05cf29def38e",
   "metadata": {},
   "outputs": [
    {
     "name": "stdout",
     "output_type": "stream",
     "text": [
      "rental_id        int64\n",
      "rental_date     object\n",
      "inventory_id     int64\n",
      "customer_id      int64\n",
      "return_date     object\n",
      "staff_id         int64\n",
      "last_update     object\n",
      "dtype: object\n"
     ]
    }
   ],
   "source": [
    "# Visualizando o tipo das colunas\n",
    "print(rental.dtypes)"
   ]
  },
  {
   "cell_type": "code",
   "execution_count": 248,
   "id": "1031b64e-48f2-4ddc-9f53-008201665b8d",
   "metadata": {},
   "outputs": [],
   "source": [
    "# Alteração das colunas para DateTime:\n",
    "rental['rental_date'] = pd.to_datetime(rental['rental_date'])\n",
    "rental['return_date'] = pd.to_datetime(rental['return_date'])\n",
    "rental['last_update'] = pd.to_datetime(rental['last_update'])"
   ]
  },
  {
   "cell_type": "code",
   "execution_count": 249,
   "id": "37998a85-728d-485c-9537-cfec094cc0c2",
   "metadata": {},
   "outputs": [
    {
     "name": "stdout",
     "output_type": "stream",
     "text": [
      "rental_id                int64\n",
      "rental_date     datetime64[ns]\n",
      "inventory_id             int64\n",
      "customer_id              int64\n",
      "return_date     datetime64[ns]\n",
      "staff_id                 int64\n",
      "last_update     datetime64[ns]\n",
      "dtype: object\n"
     ]
    }
   ],
   "source": [
    "# Visualizando o tipo das colunas, após alterações\n",
    "print(rental.dtypes)"
   ]
  },
  {
   "cell_type": "markdown",
   "id": "4d69a241-8eac-4e98-aa72-1e21dbe43e3d",
   "metadata": {},
   "source": [
    "#### Análise exploratória  - STAFF"
   ]
  },
  {
   "cell_type": "code",
   "execution_count": 250,
   "id": "92ff6309-49d5-4946-a0ec-847788ccca37",
   "metadata": {},
   "outputs": [],
   "source": [
    "#Leitura do arquivo \n",
    "staff = pd.read_csv(\"staff.csv\")"
   ]
  },
  {
   "cell_type": "code",
   "execution_count": 251,
   "id": "3acaa4f8",
   "metadata": {},
   "outputs": [
    {
     "name": "stdout",
     "output_type": "stream",
     "text": [
      "Esse é o total de linhas e colunas:\n",
      "(3, 11)\n"
     ]
    }
   ],
   "source": [
    "# Total de linhas e colunas\n",
    "total_linhas_colunas = staff.shape\n",
    "print(\"Esse é o total de linhas e colunas:\")\n",
    "print(total_linhas_colunas)"
   ]
  },
  {
   "cell_type": "code",
   "execution_count": 252,
   "id": "e1607943",
   "metadata": {},
   "outputs": [
    {
     "name": "stdout",
     "output_type": "stream",
     "text": [
      "Linhas duplicadas:\n",
      "Empty DataFrame\n",
      "Columns: [staff_id, first_name, last_name, address_id, email, store_id, active, username, password, last_update, picture]\n",
      "Index: []\n"
     ]
    }
   ],
   "source": [
    "# Verificando se existem linhas duplicadas\n",
    "linhas_duplicadas = staff[staff.duplicated()]\n",
    "print(\"Linhas duplicadas:\")\n",
    "print(linhas_duplicadas)"
   ]
  },
  {
   "cell_type": "code",
   "execution_count": 253,
   "id": "226f6087",
   "metadata": {},
   "outputs": [
    {
     "name": "stdout",
     "output_type": "stream",
     "text": [
      "Quantidade de valores nulos (NaN) ou em branco em cada coluna:\n",
      "staff_id       0\n",
      "first_name     1\n",
      "last_name      1\n",
      "address_id     1\n",
      "email          1\n",
      "store_id       1\n",
      "active         1\n",
      "username       1\n",
      "password       1\n",
      "last_update    1\n",
      "picture        2\n",
      "dtype: int64\n"
     ]
    }
   ],
   "source": [
    "# Verificando se há valores nulos (NaN) ou em branco em cada coluna\n",
    "valores_nulos = staff.isnull().sum()\n",
    "print(\"Quantidade de valores nulos (NaN) ou em branco em cada coluna:\")\n",
    "print(valores_nulos)"
   ]
  },
  {
   "cell_type": "code",
   "execution_count": 254,
   "id": "8689e269-6f37-438d-9920-e11c46c0703b",
   "metadata": {},
   "outputs": [
    {
     "data": {
      "text/html": [
       "<div>\n",
       "<style scoped>\n",
       "    .dataframe tbody tr th:only-of-type {\n",
       "        vertical-align: middle;\n",
       "    }\n",
       "\n",
       "    .dataframe tbody tr th {\n",
       "        vertical-align: top;\n",
       "    }\n",
       "\n",
       "    .dataframe thead th {\n",
       "        text-align: right;\n",
       "    }\n",
       "</style>\n",
       "<table border=\"1\" class=\"dataframe\">\n",
       "  <thead>\n",
       "    <tr style=\"text-align: right;\">\n",
       "      <th></th>\n",
       "      <th>staff_id</th>\n",
       "      <th>first_name</th>\n",
       "      <th>last_name</th>\n",
       "      <th>address_id</th>\n",
       "      <th>email</th>\n",
       "      <th>store_id</th>\n",
       "      <th>active</th>\n",
       "      <th>username</th>\n",
       "      <th>password</th>\n",
       "      <th>last_update</th>\n",
       "      <th>picture</th>\n",
       "    </tr>\n",
       "  </thead>\n",
       "  <tbody>\n",
       "    <tr>\n",
       "      <th>0</th>\n",
       "      <td>1</td>\n",
       "      <td>Mike</td>\n",
       "      <td>Hillyer</td>\n",
       "      <td>3.0</td>\n",
       "      <td>Mike.Hillyer@sakilastaff.com</td>\n",
       "      <td>1.0</td>\n",
       "      <td>True</td>\n",
       "      <td>Mike</td>\n",
       "      <td>8cb2237d0679ca88db6464eac60da96345513964</td>\n",
       "      <td>2006-05-16 16:13:11.793</td>\n",
       "      <td>�PNG</td>\n",
       "    </tr>\n",
       "    <tr>\n",
       "      <th>1</th>\n",
       "      <td>Z</td>\n",
       "      <td>NaN</td>\n",
       "      <td>NaN</td>\n",
       "      <td>NaN</td>\n",
       "      <td>NaN</td>\n",
       "      <td>NaN</td>\n",
       "      <td>NaN</td>\n",
       "      <td>NaN</td>\n",
       "      <td>NaN</td>\n",
       "      <td>NaN</td>\n",
       "      <td>NaN</td>\n",
       "    </tr>\n",
       "    <tr>\n",
       "      <th>2</th>\n",
       "      <td>2</td>\n",
       "      <td>Jon</td>\n",
       "      <td>Stephens</td>\n",
       "      <td>4.0</td>\n",
       "      <td>Jon.Stephens@sakilastaff.com</td>\n",
       "      <td>2.0</td>\n",
       "      <td>True</td>\n",
       "      <td>Jon</td>\n",
       "      <td>8cb2237d0679ca88db6464eac60da96345513964</td>\n",
       "      <td>2006-05-16 16:13:11.793</td>\n",
       "      <td>NaN</td>\n",
       "    </tr>\n",
       "  </tbody>\n",
       "</table>\n",
       "</div>"
      ],
      "text/plain": [
       "  staff_id first_name last_name  address_id                         email  \\\n",
       "0        1       Mike   Hillyer         3.0  Mike.Hillyer@sakilastaff.com   \n",
       "1        Z        NaN       NaN         NaN                           NaN   \n",
       "2        2        Jon  Stephens         4.0  Jon.Stephens@sakilastaff.com   \n",
       "\n",
       "   store_id active username                                  password  \\\n",
       "0       1.0   True     Mike  8cb2237d0679ca88db6464eac60da96345513964   \n",
       "1       NaN    NaN      NaN                                       NaN   \n",
       "2       2.0   True      Jon  8cb2237d0679ca88db6464eac60da96345513964   \n",
       "\n",
       "               last_update picture  \n",
       "0  2006-05-16 16:13:11.793    �PNG  \n",
       "1                      NaN     NaN  \n",
       "2  2006-05-16 16:13:11.793     NaN  "
      ]
     },
     "execution_count": 254,
     "metadata": {},
     "output_type": "execute_result"
    }
   ],
   "source": [
    "# Visualizando o tipo das colunas\n",
    "staff.head()"
   ]
  },
  {
   "cell_type": "code",
   "execution_count": 255,
   "id": "a352b335-376b-47dc-8f56-1d35486ecb2a",
   "metadata": {},
   "outputs": [],
   "source": [
    "# Excluindo linhas vazias\n",
    "staff = pd.DataFrame(staff)\n",
    "staff = staff.dropna(subset=['first_name'])"
   ]
  },
  {
   "cell_type": "code",
   "execution_count": 256,
   "id": "b4b2c2aa-86fe-46e0-a31a-8dce6fa82dda",
   "metadata": {},
   "outputs": [
    {
     "data": {
      "text/html": [
       "<div>\n",
       "<style scoped>\n",
       "    .dataframe tbody tr th:only-of-type {\n",
       "        vertical-align: middle;\n",
       "    }\n",
       "\n",
       "    .dataframe tbody tr th {\n",
       "        vertical-align: top;\n",
       "    }\n",
       "\n",
       "    .dataframe thead th {\n",
       "        text-align: right;\n",
       "    }\n",
       "</style>\n",
       "<table border=\"1\" class=\"dataframe\">\n",
       "  <thead>\n",
       "    <tr style=\"text-align: right;\">\n",
       "      <th></th>\n",
       "      <th>staff_id</th>\n",
       "      <th>first_name</th>\n",
       "      <th>last_name</th>\n",
       "      <th>address_id</th>\n",
       "      <th>email</th>\n",
       "      <th>store_id</th>\n",
       "      <th>active</th>\n",
       "      <th>username</th>\n",
       "      <th>password</th>\n",
       "      <th>last_update</th>\n",
       "      <th>picture</th>\n",
       "    </tr>\n",
       "  </thead>\n",
       "  <tbody>\n",
       "    <tr>\n",
       "      <th>0</th>\n",
       "      <td>1</td>\n",
       "      <td>Mike</td>\n",
       "      <td>Hillyer</td>\n",
       "      <td>3.0</td>\n",
       "      <td>Mike.Hillyer@sakilastaff.com</td>\n",
       "      <td>1.0</td>\n",
       "      <td>True</td>\n",
       "      <td>Mike</td>\n",
       "      <td>8cb2237d0679ca88db6464eac60da96345513964</td>\n",
       "      <td>2006-05-16 16:13:11.793</td>\n",
       "      <td>�PNG</td>\n",
       "    </tr>\n",
       "    <tr>\n",
       "      <th>2</th>\n",
       "      <td>2</td>\n",
       "      <td>Jon</td>\n",
       "      <td>Stephens</td>\n",
       "      <td>4.0</td>\n",
       "      <td>Jon.Stephens@sakilastaff.com</td>\n",
       "      <td>2.0</td>\n",
       "      <td>True</td>\n",
       "      <td>Jon</td>\n",
       "      <td>8cb2237d0679ca88db6464eac60da96345513964</td>\n",
       "      <td>2006-05-16 16:13:11.793</td>\n",
       "      <td>NaN</td>\n",
       "    </tr>\n",
       "  </tbody>\n",
       "</table>\n",
       "</div>"
      ],
      "text/plain": [
       "  staff_id first_name last_name  address_id                         email  \\\n",
       "0        1       Mike   Hillyer         3.0  Mike.Hillyer@sakilastaff.com   \n",
       "2        2        Jon  Stephens         4.0  Jon.Stephens@sakilastaff.com   \n",
       "\n",
       "   store_id active username                                  password  \\\n",
       "0       1.0   True     Mike  8cb2237d0679ca88db6464eac60da96345513964   \n",
       "2       2.0   True      Jon  8cb2237d0679ca88db6464eac60da96345513964   \n",
       "\n",
       "               last_update picture  \n",
       "0  2006-05-16 16:13:11.793    �PNG  \n",
       "2  2006-05-16 16:13:11.793     NaN  "
      ]
     },
     "execution_count": 256,
     "metadata": {},
     "output_type": "execute_result"
    }
   ],
   "source": [
    "# Visualizando o tipo das colunas, após alterações\n",
    "staff.head()"
   ]
  },
  {
   "cell_type": "code",
   "execution_count": 257,
   "id": "81860179",
   "metadata": {},
   "outputs": [],
   "source": [
    "# Atribuindo um novo DataFrame sem a coluna \"picture\" pois a mesma está com dados comprometidos e não prejudica a análise\n",
    "staff = staff.drop(columns='picture')"
   ]
  },
  {
   "cell_type": "code",
   "execution_count": 258,
   "id": "41c14ece",
   "metadata": {},
   "outputs": [
    {
     "data": {
      "text/html": [
       "<div>\n",
       "<style scoped>\n",
       "    .dataframe tbody tr th:only-of-type {\n",
       "        vertical-align: middle;\n",
       "    }\n",
       "\n",
       "    .dataframe tbody tr th {\n",
       "        vertical-align: top;\n",
       "    }\n",
       "\n",
       "    .dataframe thead th {\n",
       "        text-align: right;\n",
       "    }\n",
       "</style>\n",
       "<table border=\"1\" class=\"dataframe\">\n",
       "  <thead>\n",
       "    <tr style=\"text-align: right;\">\n",
       "      <th></th>\n",
       "      <th>staff_id</th>\n",
       "      <th>first_name</th>\n",
       "      <th>last_name</th>\n",
       "      <th>address_id</th>\n",
       "      <th>email</th>\n",
       "      <th>store_id</th>\n",
       "      <th>active</th>\n",
       "      <th>username</th>\n",
       "      <th>password</th>\n",
       "      <th>last_update</th>\n",
       "    </tr>\n",
       "  </thead>\n",
       "  <tbody>\n",
       "    <tr>\n",
       "      <th>0</th>\n",
       "      <td>1</td>\n",
       "      <td>Mike</td>\n",
       "      <td>Hillyer</td>\n",
       "      <td>3.0</td>\n",
       "      <td>Mike.Hillyer@sakilastaff.com</td>\n",
       "      <td>1.0</td>\n",
       "      <td>True</td>\n",
       "      <td>Mike</td>\n",
       "      <td>8cb2237d0679ca88db6464eac60da96345513964</td>\n",
       "      <td>2006-05-16 16:13:11.793</td>\n",
       "    </tr>\n",
       "    <tr>\n",
       "      <th>2</th>\n",
       "      <td>2</td>\n",
       "      <td>Jon</td>\n",
       "      <td>Stephens</td>\n",
       "      <td>4.0</td>\n",
       "      <td>Jon.Stephens@sakilastaff.com</td>\n",
       "      <td>2.0</td>\n",
       "      <td>True</td>\n",
       "      <td>Jon</td>\n",
       "      <td>8cb2237d0679ca88db6464eac60da96345513964</td>\n",
       "      <td>2006-05-16 16:13:11.793</td>\n",
       "    </tr>\n",
       "  </tbody>\n",
       "</table>\n",
       "</div>"
      ],
      "text/plain": [
       "  staff_id first_name last_name  address_id                         email  \\\n",
       "0        1       Mike   Hillyer         3.0  Mike.Hillyer@sakilastaff.com   \n",
       "2        2        Jon  Stephens         4.0  Jon.Stephens@sakilastaff.com   \n",
       "\n",
       "   store_id active username                                  password  \\\n",
       "0       1.0   True     Mike  8cb2237d0679ca88db6464eac60da96345513964   \n",
       "2       2.0   True      Jon  8cb2237d0679ca88db6464eac60da96345513964   \n",
       "\n",
       "               last_update  \n",
       "0  2006-05-16 16:13:11.793  \n",
       "2  2006-05-16 16:13:11.793  "
      ]
     },
     "execution_count": 258,
     "metadata": {},
     "output_type": "execute_result"
    }
   ],
   "source": [
    "# Visualizando o tipo das colunas, após exclusão\n",
    "staff.head()"
   ]
  },
  {
   "cell_type": "code",
   "execution_count": 259,
   "id": "229b7d83-2b82-4d04-b092-857b1acb8d36",
   "metadata": {},
   "outputs": [
    {
     "name": "stdout",
     "output_type": "stream",
     "text": [
      "staff_id        object\n",
      "first_name      object\n",
      "last_name       object\n",
      "address_id     float64\n",
      "email           object\n",
      "store_id       float64\n",
      "active          object\n",
      "username        object\n",
      "password        object\n",
      "last_update     object\n",
      "dtype: object\n"
     ]
    }
   ],
   "source": [
    "# Visualizando tipo dos dados \n",
    "print(staff.dtypes)"
   ]
  },
  {
   "cell_type": "code",
   "execution_count": 260,
   "id": "3b398939-050a-488a-85ce-9137badb9f7b",
   "metadata": {},
   "outputs": [],
   "source": [
    "# Alterações do tipo das colunas\n",
    "staff['last_update'] = pd.to_datetime(staff['last_update']) #Alteração da coluna para DateTime\n",
    "staff['address_id'] = staff['address_id'].astype('int64') #Alteração da coluna para int64\n"
   ]
  },
  {
   "cell_type": "code",
   "execution_count": 261,
   "id": "257f50f7-1ed9-44d4-9975-13e5375b1b71",
   "metadata": {},
   "outputs": [
    {
     "name": "stdout",
     "output_type": "stream",
     "text": [
      "staff_id               object\n",
      "first_name             object\n",
      "last_name              object\n",
      "address_id              int64\n",
      "email                  object\n",
      "store_id              float64\n",
      "active                 object\n",
      "username               object\n",
      "password               object\n",
      "last_update    datetime64[ns]\n",
      "dtype: object\n"
     ]
    }
   ],
   "source": [
    "#Visualizando tipo dos dados, após as alterações\n",
    "print(staff.dtypes)"
   ]
  },
  {
   "cell_type": "markdown",
   "id": "369dd7d3-ae9c-4b0e-b2d6-9b3246afb18b",
   "metadata": {},
   "source": [
    "#### Análise exploratória  - STORE"
   ]
  },
  {
   "cell_type": "code",
   "execution_count": 262,
   "id": "91c3e842-d9e0-442e-84c4-181416cb0ac9",
   "metadata": {},
   "outputs": [],
   "source": [
    "#Leitura do arquivo \n",
    "store = pd.read_csv(\"store.csv\")"
   ]
  },
  {
   "cell_type": "code",
   "execution_count": 263,
   "id": "1e1c3aaa",
   "metadata": {},
   "outputs": [
    {
     "name": "stdout",
     "output_type": "stream",
     "text": [
      "Esse é o total de linhas e colunas:\n",
      "(2, 4)\n"
     ]
    }
   ],
   "source": [
    "# Total de linhas e colunas\n",
    "total_linhas_colunas = store.shape\n",
    "print(\"Esse é o total de linhas e colunas:\")\n",
    "print(total_linhas_colunas)"
   ]
  },
  {
   "cell_type": "code",
   "execution_count": 264,
   "id": "9b32d09a",
   "metadata": {},
   "outputs": [
    {
     "name": "stdout",
     "output_type": "stream",
     "text": [
      "Linhas duplicadas:\n",
      "Empty DataFrame\n",
      "Columns: [store_id, manager_staff_id, address_id, last_update]\n",
      "Index: []\n"
     ]
    }
   ],
   "source": [
    "# Verificando se existem linhas duplicadas\n",
    "linhas_duplicadas = store[store.duplicated()]\n",
    "print(\"Linhas duplicadas:\")\n",
    "print(linhas_duplicadas)"
   ]
  },
  {
   "cell_type": "code",
   "execution_count": 265,
   "id": "ba788ef2",
   "metadata": {},
   "outputs": [
    {
     "name": "stdout",
     "output_type": "stream",
     "text": [
      "Quantidade de valores nulos (NaN) ou em branco em cada coluna:\n",
      "store_id            0\n",
      "manager_staff_id    0\n",
      "address_id          0\n",
      "last_update         0\n",
      "dtype: int64\n"
     ]
    }
   ],
   "source": [
    "# Verificando se há valores nulos (NaN) ou em branco em cada coluna\n",
    "valores_nulos = store.isnull().sum()\n",
    "print(\"Quantidade de valores nulos (NaN) ou em branco em cada coluna:\")\n",
    "print(valores_nulos)"
   ]
  },
  {
   "cell_type": "code",
   "execution_count": 266,
   "id": "8912f039-f0c3-498a-9c0b-fad8d8cce2d7",
   "metadata": {},
   "outputs": [
    {
     "data": {
      "text/html": [
       "<div>\n",
       "<style scoped>\n",
       "    .dataframe tbody tr th:only-of-type {\n",
       "        vertical-align: middle;\n",
       "    }\n",
       "\n",
       "    .dataframe tbody tr th {\n",
       "        vertical-align: top;\n",
       "    }\n",
       "\n",
       "    .dataframe thead th {\n",
       "        text-align: right;\n",
       "    }\n",
       "</style>\n",
       "<table border=\"1\" class=\"dataframe\">\n",
       "  <thead>\n",
       "    <tr style=\"text-align: right;\">\n",
       "      <th></th>\n",
       "      <th>store_id</th>\n",
       "      <th>manager_staff_id</th>\n",
       "      <th>address_id</th>\n",
       "      <th>last_update</th>\n",
       "    </tr>\n",
       "  </thead>\n",
       "  <tbody>\n",
       "    <tr>\n",
       "      <th>0</th>\n",
       "      <td>1</td>\n",
       "      <td>1</td>\n",
       "      <td>1</td>\n",
       "      <td>2006-02-15 09:57:12.000</td>\n",
       "    </tr>\n",
       "    <tr>\n",
       "      <th>1</th>\n",
       "      <td>2</td>\n",
       "      <td>2</td>\n",
       "      <td>2</td>\n",
       "      <td>2006-02-15 09:57:12.000</td>\n",
       "    </tr>\n",
       "  </tbody>\n",
       "</table>\n",
       "</div>"
      ],
      "text/plain": [
       "   store_id  manager_staff_id  address_id              last_update\n",
       "0         1                 1           1  2006-02-15 09:57:12.000\n",
       "1         2                 2           2  2006-02-15 09:57:12.000"
      ]
     },
     "execution_count": 266,
     "metadata": {},
     "output_type": "execute_result"
    }
   ],
   "source": [
    "store.head()"
   ]
  },
  {
   "cell_type": "code",
   "execution_count": 267,
   "id": "8ff9ed8b-c1f8-4e4b-bc76-b981931c6ed4",
   "metadata": {},
   "outputs": [
    {
     "name": "stdout",
     "output_type": "stream",
     "text": [
      "store_id             int64\n",
      "manager_staff_id     int64\n",
      "address_id           int64\n",
      "last_update         object\n",
      "dtype: object\n"
     ]
    }
   ],
   "source": [
    "# Visualizando o tipo das colunas\n",
    "print(store.dtypes)"
   ]
  },
  {
   "cell_type": "code",
   "execution_count": 268,
   "id": "ffd427bf-2588-4932-b5d1-c23b66a4783f",
   "metadata": {},
   "outputs": [],
   "source": [
    "# Alteração das colunas para DateTime:\n",
    "store['last_update'] = pd.to_datetime(store['last_update'])"
   ]
  },
  {
   "cell_type": "code",
   "execution_count": 269,
   "id": "d5eb0b5c-fbaa-4dcb-92be-b0a903120adf",
   "metadata": {},
   "outputs": [
    {
     "name": "stdout",
     "output_type": "stream",
     "text": [
      "store_id                     int64\n",
      "manager_staff_id             int64\n",
      "address_id                   int64\n",
      "last_update         datetime64[ns]\n",
      "dtype: object\n"
     ]
    }
   ],
   "source": [
    "# Visualizando o tipo das colunas, após alterações\n",
    "print(store.dtypes)"
   ]
  },
  {
   "cell_type": "markdown",
   "id": "3647fa7e-455f-4167-b650-9d8028b15130",
   "metadata": {},
   "source": [
    "# Salvando os arquivos tratados em csv"
   ]
  },
  {
   "cell_type": "code",
   "execution_count": 270,
   "id": "bda41455-f7e3-4372-8aa2-17600da922c6",
   "metadata": {},
   "outputs": [],
   "source": [
    "# Definindo o caminho e nome do arquivo CSV para cada DataFrame\n",
    "caminho_actor = 'C:/Users/aurel/OneDrive/Área de Trabalho/DESAFIO-DISCORAMA/DESAFIO_DISCORAMA/2_tratamento/actor.csv'\n",
    "caminho_address = 'C:/Users/aurel/OneDrive/Área de Trabalho/DESAFIO-DISCORAMA/DESAFIO_DISCORAMA/2_tratamento/address.csv'\n",
    "caminho_category = 'C:/Users/aurel/OneDrive/Área de Trabalho/DESAFIO-DISCORAMA/DESAFIO_DISCORAMA/2_tratamento/category.csv'\n",
    "caminho_city = 'C:/Users/aurel/OneDrive/Área de Trabalho/DESAFIO-DISCORAMA/DESAFIO_DISCORAMA/2_tratamento/city.csv'\n",
    "caminho_country = 'C:/Users/aurel/OneDrive/Área de Trabalho/DESAFIO-DISCORAMA/DESAFIO_DISCORAMA/2_tratamento/country.csv'\n",
    "caminho_customer = 'C:/Users/aurel/OneDrive/Área de Trabalho/DESAFIO-DISCORAMA/DESAFIO_DISCORAMA/2_tratamento/customer.csv'\n",
    "caminho_film = 'C:/Users/aurel/OneDrive/Área de Trabalho/DESAFIO-DISCORAMA/DESAFIO_DISCORAMA/2_tratamento/film.csv'\n",
    "caminho_film_actor = 'C:/Users/aurel/OneDrive/Área de Trabalho/DESAFIO-DISCORAMA/DESAFIO_DISCORAMA/2_tratamento/film_actor.csv'\n",
    "caminho_film_category = 'C:/Users/aurel/OneDrive/Área de Trabalho/DESAFIO-DISCORAMA/DESAFIO_DISCORAMA/2_tratamento/film_category.csv'\n",
    "caminho_inventory = 'C:/Users/aurel/OneDrive/Área de Trabalho/DESAFIO-DISCORAMA/DESAFIO_DISCORAMA/2_tratamento/inventory.csv'\n",
    "caminho_payment = 'C:/Users/aurel/OneDrive/Área de Trabalho/DESAFIO-DISCORAMA/DESAFIO_DISCORAMA/2_tratamento/payment.csv'\n",
    "caminho_rental = 'C:/Users/aurel/OneDrive/Área de Trabalho/DESAFIO-DISCORAMA/DESAFIO_DISCORAMA/2_tratamento/rental.csv'\n",
    "caminho_staff = 'C:/Users/aurel/OneDrive/Área de Trabalho/DESAFIO-DISCORAMA/DESAFIO_DISCORAMA/2_tratamento/staff.csv'\n",
    "caminho_store = 'C:/Users/aurel/OneDrive/Área de Trabalho/DESAFIO-DISCORAMA/DESAFIO_DISCORAMA/2_tratamento/store.csv'"
   ]
  },
  {
   "cell_type": "code",
   "execution_count": 271,
   "id": "6fd3a81c-344a-4491-a759-dd8fd4d26f18",
   "metadata": {},
   "outputs": [],
   "source": [
    "# Salvando cada DataFrame em um arquivo CSV\n",
    "actor.to_csv(caminho_actor, index=False)\n",
    "address.to_csv(caminho_address, index=False)\n",
    "category.to_csv(caminho_category, index=False)\n",
    "city.to_csv(caminho_city, index=False)\n",
    "country.to_csv(caminho_country, index=False)\n",
    "customer.to_csv(caminho_customer, index=False)\n",
    "film.to_csv(caminho_film, index=False)\n",
    "film_actor.to_csv(caminho_film_actor, index=False)\n",
    "film_category.to_csv(caminho_film_category, index=False)\n",
    "inventory.to_csv(caminho_inventory, index=False)\n",
    "payment.to_csv(caminho_payment, index=False)\n",
    "rental.to_csv(caminho_rental, index=False)\n",
    "staff.to_csv(caminho_staff, index=False)\n",
    "store.to_csv(caminho_store, index=False)"
   ]
  }
 ],
 "metadata": {
  "kernelspec": {
   "display_name": "Python 3 (ipykernel)",
   "language": "python",
   "name": "python3"
  },
  "language_info": {
   "codemirror_mode": {
    "name": "ipython",
    "version": 3
   },
   "file_extension": ".py",
   "mimetype": "text/x-python",
   "name": "python",
   "nbconvert_exporter": "python",
   "pygments_lexer": "ipython3",
   "version": "3.10.5"
  }
 },
 "nbformat": 4,
 "nbformat_minor": 5
}
